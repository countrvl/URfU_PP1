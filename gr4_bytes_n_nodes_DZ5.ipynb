{
 "cells": [
  {
   "cell_type": "markdown",
   "id": "8e73a147-eb1d-4923-b0f4-ad1322877be7",
   "metadata": {},
   "source": [
    "## Домашнее задание №5"
   ]
  },
  {
   "cell_type": "markdown",
   "id": "173141d0-8691-401b-ad37-9cc1fcc056ec",
   "metadata": {},
   "source": [
    "### Этап 2 Включите признаки, полученные из текстовых данных в обучающую выборку."
   ]
  },
  {
   "cell_type": "markdown",
   "id": "01a3f61b-3e81-4a8a-b391-eaddf348de08",
   "metadata": {},
   "source": [
    "Импорт необходимых библиотек, необходимых для выполнения второго этапа"
   ]
  },
  {
   "cell_type": "code",
   "execution_count": 21,
   "id": "a83c3f92-1f5b-4f28-ac68-bca1eabd0b6b",
   "metadata": {},
   "outputs": [],
   "source": [
    "import pandas as pd\n",
    "import numpy as np\n",
    "from sklearn.datasets import fetch_20newsgroups\n",
    "from sklearn.feature_extraction.text import TfidfVectorizer\n",
    "from sklearn.model_selection import train_test_split\n",
    "from sklearn.ensemble import RandomForestClassifier\n",
    "from sklearn.metrics import classification_report\n",
    "from nltk.corpus import stopwords\n",
    "from nltk.tokenize import word_tokenize\n",
    "from nltk.stem import WordNetLemmatizer\n",
    "import nltk\n",
    "import re"
   ]
  },
  {
   "cell_type": "markdown",
   "id": "42c70ade-8e9c-480b-80b8-db9e94db9e04",
   "metadata": {},
   "source": [
    "Загрузка данных из датасета fetch_20newsgroups. В качестве категорий были выбраны comp.graphics, rec.sport.hockey, sci.space."
   ]
  },
  {
   "cell_type": "code",
   "execution_count": 22,
   "id": "47dba871-ee7f-4541-9873-a77bf312175c",
   "metadata": {},
   "outputs": [],
   "source": [
    "categories = ['comp.graphics', 'rec.sport.hockey', 'sci.space']\n",
    "newsgroups_data = fetch_20newsgroups(subset='all', categories=categories, remove=('headers', 'footers', 'quotes'))"
   ]
  },
  {
   "cell_type": "code",
   "execution_count": 23,
   "id": "f00c1636-27bd-424c-9e40-faeaf3774a90",
   "metadata": {},
   "outputs": [
    {
     "name": "stdout",
     "output_type": "stream",
     "text": [
      "Количество текстов: 2959\n",
      "Примеры категорий: ['comp.graphics', 'rec.sport.hockey', 'sci.space']\n"
     ]
    }
   ],
   "source": [
    "texts = newsgroups_data.data\n",
    "labels = newsgroups_data.target\n",
    "print(f\"Количество текстов: {len(texts)}\")\n",
    "print(f\"Примеры категорий: {newsgroups_data.target_names}\")"
   ]
  },
  {
   "cell_type": "markdown",
   "id": "24502098-e3c3-4b93-8c5c-6a2aa64297ff",
   "metadata": {},
   "source": [
    "Токенизация, преобразование текста, удаление стоп-слов и лемматизация"
   ]
  },
  {
   "cell_type": "code",
   "execution_count": 34,
   "id": "e21b9cad-ae39-4ed4-b4d9-463a89c48d71",
   "metadata": {},
   "outputs": [],
   "source": [
    "#nltk.download('all')"
   ]
  },
  {
   "cell_type": "code",
   "execution_count": 25,
   "id": "0c487469-bb1c-4357-b356-049edc37894c",
   "metadata": {},
   "outputs": [],
   "source": [
    "lemmatizer = WordNetLemmatizer()\n",
    "stop_words = set(stopwords.words('english'))"
   ]
  },
  {
   "cell_type": "markdown",
   "id": "6d498347-8822-4e92-ac71-9c1459f5d5d0",
   "metadata": {},
   "source": [
    "Предобработка текста "
   ]
  },
  {
   "cell_type": "code",
   "execution_count": 26,
   "id": "e31f5611-75ff-4717-a8cd-d3a47c2041da",
   "metadata": {},
   "outputs": [
    {
     "name": "stdout",
     "output_type": "stream",
     "text": [
      "Пример до обработки:\n",
      "\n",
      "    Yes.  There are many methods of rendering, raytracing is one of them.\n",
      "You didn't say what you mean by rendering, so I won't guess.  Methods of\n",
      "rendering include:\n",
      "\n",
      "        o  Pencil and graph paper, doing the math by hand\n",
      "\n",
      "        o  Wireframe rendering of the 2D projection\n",
      "\n",
      "        o  Hidden li\n",
      "\n",
      "Пример после обработки:\n",
      "yes many method rendering raytracing one didnt say mean rendering wont guess method rendering include pencil graph paper math hand wireframe rendering projection hidden line rendering scanline rendering using painter algorithm bsp tree z buffer raytracing radiosity holographic projection film combin\n"
     ]
    }
   ],
   "source": [
    "def preprocess_text(text):\n",
    "    text = text.lower() #Приводим к нижнему регистру\n",
    "    text = re.sub(r'[^\\w\\s]', '', text) #Удаление пунктуации\n",
    "    text = re.sub(r'\\d+', '', text) #Удаление цифр\n",
    "    tokens = word_tokenize(text) #Токенизация\n",
    "    tokens = [word for word in tokens if word not in stop_words] #Удаление стоп-слов\n",
    "    tokens = [lemmatizer.lemmatize(word) for word in tokens] #Лемматизация\n",
    "    return ' '.join(tokens)\n",
    "\n",
    "processed_texts = [preprocess_text(text) for text in texts]\n",
    "print(f\"Пример до обработки:\\n{texts[0][:300]}\")\n",
    "print(f\"\\nПример после обработки:\\n{processed_texts[0][:300]}\")"
   ]
  },
  {
   "cell_type": "markdown",
   "id": "5884e405-de6c-4778-930d-3aeb0e8321f4",
   "metadata": {},
   "source": [
    "Векторизация токентов с использованием TF-IDF"
   ]
  },
  {
   "cell_type": "code",
   "execution_count": 27,
   "id": "d07f3545-f0d7-4300-8fbb-b1f5901dd4fa",
   "metadata": {},
   "outputs": [
    {
     "name": "stdout",
     "output_type": "stream",
     "text": [
      "Размер матрицы признаков: (2959, 5000)\n"
     ]
    }
   ],
   "source": [
    "#Настройка TF-IDF векторизатора\n",
    "vectorizer = TfidfVectorizer(max_features=5000)\n",
    "X_tfidf = vectorizer.fit_transform(processed_texts)\n",
    "X_tfidf_df = pd.DataFrame(X_tfidf.toarray(), columns=vectorizer.get_feature_names_out())\n",
    "print(f\"Размер матрицы признаков: {X_tfidf.shape}\")"
   ]
  },
  {
   "cell_type": "markdown",
   "id": "ed77900f-737d-435f-a772-a53bfcd35b76",
   "metadata": {},
   "source": [
    "Обучние модели на полученном DF"
   ]
  },
  {
   "cell_type": "code",
   "execution_count": 28,
   "id": "b125347c-2990-446e-8981-ead5af2ad862",
   "metadata": {},
   "outputs": [
    {
     "name": "stdout",
     "output_type": "stream",
     "text": [
      "                  precision    recall  f1-score   support\n",
      "\n",
      "   comp.graphics       0.88      0.88      0.88       297\n",
      "rec.sport.hockey       0.94      0.88      0.91       299\n",
      "       sci.space       0.82      0.88      0.85       292\n",
      "\n",
      "        accuracy                           0.88       888\n",
      "       macro avg       0.88      0.88      0.88       888\n",
      "    weighted avg       0.88      0.88      0.88       888\n",
      "\n"
     ]
    }
   ],
   "source": [
    "X_train, X_test, y_train, y_test = train_test_split(X_tfidf_df, labels, test_size=0.3, random_state=42)\n",
    "\n",
    "model = RandomForestClassifier(random_state=42)\n",
    "model.fit(X_train, y_train)\n",
    "y_pred = model.predict(X_test)\n",
    "\n",
    "# Оценка качества модели\n",
    "print(classification_report(y_test, y_pred, target_names=newsgroups_data.target_names))"
   ]
  },
  {
   "cell_type": "markdown",
   "id": "f52d079a-ebfb-4e3d-ab5d-9ae8133bce37",
   "metadata": {},
   "source": [
    "### Этап 3 Примените нейросети для задачи NLP."
   ]
  },
  {
   "cell_type": "code",
   "execution_count": 29,
   "id": "2d248137-6a2b-4192-9ced-c1ee771b1bf9",
   "metadata": {},
   "outputs": [],
   "source": [
    "from sklearn.datasets import fetch_20newsgroups\n",
    "from sklearn.model_selection import train_test_split\n",
    "from tensorflow.keras.preprocessing.text import Tokenizer\n",
    "from tensorflow.keras.preprocessing.sequence import pad_sequences\n",
    "import numpy as np\n",
    "\n",
    "categories = ['comp.graphics', 'rec.sport.hockey', 'sci.space']\n",
    "newsgroups_data = fetch_20newsgroups(subset='all', categories=categories, remove=('headers', 'footers', 'quotes'))\n",
    "\n",
    "texts = newsgroups_data.data\n",
    "labels = newsgroups_data.target\n",
    "\n",
    "max_words = 10000  #Максимальное количество слов в словаре\n",
    "max_len = 200      #Максимальная длина текстов\n",
    "\n",
    "tokenizer = Tokenizer(num_words=max_words)\n",
    "tokenizer.fit_on_texts(texts)\n",
    "\n",
    "X_seq = tokenizer.texts_to_sequences(texts)  # Преобразуем тексты в числовые последовательности\n",
    "X_padded = pad_sequences(X_seq, maxlen=max_len)  #Дополняем или обрезаем последовательности до max_len\n",
    "\n",
    "X_train, X_test, y_train, y_test = train_test_split(X_padded, labels, test_size=0.3, random_state=42)"
   ]
  },
  {
   "cell_type": "code",
   "execution_count": 30,
   "id": "cae286ed-9520-48aa-b6d3-26a2dd948f43",
   "metadata": {},
   "outputs": [
    {
     "name": "stderr",
     "output_type": "stream",
     "text": [
      "C:\\Users\\23202\\AppData\\Local\\Programs\\Python\\Python312\\Lib\\site-packages\\keras\\src\\layers\\core\\embedding.py:90: UserWarning: Argument `input_length` is deprecated. Just remove it.\n",
      "  warnings.warn(\n"
     ]
    },
    {
     "data": {
      "text/html": [
       "<pre style=\"white-space:pre;overflow-x:auto;line-height:normal;font-family:Menlo,'DejaVu Sans Mono',consolas,'Courier New',monospace\"><span style=\"font-weight: bold\">Model: \"sequential_1\"</span>\n",
       "</pre>\n"
      ],
      "text/plain": [
       "\u001b[1mModel: \"sequential_1\"\u001b[0m\n"
      ]
     },
     "metadata": {},
     "output_type": "display_data"
    },
    {
     "data": {
      "text/html": [
       "<pre style=\"white-space:pre;overflow-x:auto;line-height:normal;font-family:Menlo,'DejaVu Sans Mono',consolas,'Courier New',monospace\">┏━━━━━━━━━━━━━━━━━━━━━━━━━━━━━━━━━━━━━━┳━━━━━━━━━━━━━━━━━━━━━━━━━━━━━┳━━━━━━━━━━━━━━━━━┓\n",
       "┃<span style=\"font-weight: bold\"> Layer (type)                         </span>┃<span style=\"font-weight: bold\"> Output Shape                </span>┃<span style=\"font-weight: bold\">         Param # </span>┃\n",
       "┡━━━━━━━━━━━━━━━━━━━━━━━━━━━━━━━━━━━━━━╇━━━━━━━━━━━━━━━━━━━━━━━━━━━━━╇━━━━━━━━━━━━━━━━━┩\n",
       "│ embedding_1 (<span style=\"color: #0087ff; text-decoration-color: #0087ff\">Embedding</span>)              │ ?                           │     <span style=\"color: #00af00; text-decoration-color: #00af00\">0</span> (unbuilt) │\n",
       "├──────────────────────────────────────┼─────────────────────────────┼─────────────────┤\n",
       "│ conv1d_1 (<span style=\"color: #0087ff; text-decoration-color: #0087ff\">Conv1D</span>)                    │ ?                           │     <span style=\"color: #00af00; text-decoration-color: #00af00\">0</span> (unbuilt) │\n",
       "├──────────────────────────────────────┼─────────────────────────────┼─────────────────┤\n",
       "│ global_max_pooling1d_1               │ ?                           │               <span style=\"color: #00af00; text-decoration-color: #00af00\">0</span> │\n",
       "│ (<span style=\"color: #0087ff; text-decoration-color: #0087ff\">GlobalMaxPooling1D</span>)                 │                             │                 │\n",
       "├──────────────────────────────────────┼─────────────────────────────┼─────────────────┤\n",
       "│ dense_2 (<span style=\"color: #0087ff; text-decoration-color: #0087ff\">Dense</span>)                      │ ?                           │     <span style=\"color: #00af00; text-decoration-color: #00af00\">0</span> (unbuilt) │\n",
       "├──────────────────────────────────────┼─────────────────────────────┼─────────────────┤\n",
       "│ dropout_1 (<span style=\"color: #0087ff; text-decoration-color: #0087ff\">Dropout</span>)                  │ ?                           │               <span style=\"color: #00af00; text-decoration-color: #00af00\">0</span> │\n",
       "├──────────────────────────────────────┼─────────────────────────────┼─────────────────┤\n",
       "│ dense_3 (<span style=\"color: #0087ff; text-decoration-color: #0087ff\">Dense</span>)                      │ ?                           │     <span style=\"color: #00af00; text-decoration-color: #00af00\">0</span> (unbuilt) │\n",
       "└──────────────────────────────────────┴─────────────────────────────┴─────────────────┘\n",
       "</pre>\n"
      ],
      "text/plain": [
       "┏━━━━━━━━━━━━━━━━━━━━━━━━━━━━━━━━━━━━━━┳━━━━━━━━━━━━━━━━━━━━━━━━━━━━━┳━━━━━━━━━━━━━━━━━┓\n",
       "┃\u001b[1m \u001b[0m\u001b[1mLayer (type)                        \u001b[0m\u001b[1m \u001b[0m┃\u001b[1m \u001b[0m\u001b[1mOutput Shape               \u001b[0m\u001b[1m \u001b[0m┃\u001b[1m \u001b[0m\u001b[1m        Param #\u001b[0m\u001b[1m \u001b[0m┃\n",
       "┡━━━━━━━━━━━━━━━━━━━━━━━━━━━━━━━━━━━━━━╇━━━━━━━━━━━━━━━━━━━━━━━━━━━━━╇━━━━━━━━━━━━━━━━━┩\n",
       "│ embedding_1 (\u001b[38;5;33mEmbedding\u001b[0m)              │ ?                           │     \u001b[38;5;34m0\u001b[0m (unbuilt) │\n",
       "├──────────────────────────────────────┼─────────────────────────────┼─────────────────┤\n",
       "│ conv1d_1 (\u001b[38;5;33mConv1D\u001b[0m)                    │ ?                           │     \u001b[38;5;34m0\u001b[0m (unbuilt) │\n",
       "├──────────────────────────────────────┼─────────────────────────────┼─────────────────┤\n",
       "│ global_max_pooling1d_1               │ ?                           │               \u001b[38;5;34m0\u001b[0m │\n",
       "│ (\u001b[38;5;33mGlobalMaxPooling1D\u001b[0m)                 │                             │                 │\n",
       "├──────────────────────────────────────┼─────────────────────────────┼─────────────────┤\n",
       "│ dense_2 (\u001b[38;5;33mDense\u001b[0m)                      │ ?                           │     \u001b[38;5;34m0\u001b[0m (unbuilt) │\n",
       "├──────────────────────────────────────┼─────────────────────────────┼─────────────────┤\n",
       "│ dropout_1 (\u001b[38;5;33mDropout\u001b[0m)                  │ ?                           │               \u001b[38;5;34m0\u001b[0m │\n",
       "├──────────────────────────────────────┼─────────────────────────────┼─────────────────┤\n",
       "│ dense_3 (\u001b[38;5;33mDense\u001b[0m)                      │ ?                           │     \u001b[38;5;34m0\u001b[0m (unbuilt) │\n",
       "└──────────────────────────────────────┴─────────────────────────────┴─────────────────┘\n"
      ]
     },
     "metadata": {},
     "output_type": "display_data"
    },
    {
     "data": {
      "text/html": [
       "<pre style=\"white-space:pre;overflow-x:auto;line-height:normal;font-family:Menlo,'DejaVu Sans Mono',consolas,'Courier New',monospace\"><span style=\"font-weight: bold\"> Total params: </span><span style=\"color: #00af00; text-decoration-color: #00af00\">0</span> (0.00 B)\n",
       "</pre>\n"
      ],
      "text/plain": [
       "\u001b[1m Total params: \u001b[0m\u001b[38;5;34m0\u001b[0m (0.00 B)\n"
      ]
     },
     "metadata": {},
     "output_type": "display_data"
    },
    {
     "data": {
      "text/html": [
       "<pre style=\"white-space:pre;overflow-x:auto;line-height:normal;font-family:Menlo,'DejaVu Sans Mono',consolas,'Courier New',monospace\"><span style=\"font-weight: bold\"> Trainable params: </span><span style=\"color: #00af00; text-decoration-color: #00af00\">0</span> (0.00 B)\n",
       "</pre>\n"
      ],
      "text/plain": [
       "\u001b[1m Trainable params: \u001b[0m\u001b[38;5;34m0\u001b[0m (0.00 B)\n"
      ]
     },
     "metadata": {},
     "output_type": "display_data"
    },
    {
     "data": {
      "text/html": [
       "<pre style=\"white-space:pre;overflow-x:auto;line-height:normal;font-family:Menlo,'DejaVu Sans Mono',consolas,'Courier New',monospace\"><span style=\"font-weight: bold\"> Non-trainable params: </span><span style=\"color: #00af00; text-decoration-color: #00af00\">0</span> (0.00 B)\n",
       "</pre>\n"
      ],
      "text/plain": [
       "\u001b[1m Non-trainable params: \u001b[0m\u001b[38;5;34m0\u001b[0m (0.00 B)\n"
      ]
     },
     "metadata": {},
     "output_type": "display_data"
    }
   ],
   "source": [
    "from tensorflow.keras.models import Sequential\n",
    "from tensorflow.keras.layers import Embedding, Conv1D, GlobalMaxPooling1D, Dense, Dropout\n",
    "\n",
    "model = Sequential([\n",
    "    Embedding(input_dim=max_words, output_dim=128, input_length=max_len),  #Векторизация слов\n",
    "    Conv1D(128, 5, activation='relu'),  #Сверточный слой\n",
    "    GlobalMaxPooling1D(),               #Максимальное объединение\n",
    "    Dense(64, activation='relu'),       #Полносвязный слой\n",
    "    Dropout(0.5),                       #Dropout для регуляризации\n",
    "    Dense(len(categories), activation='softmax')  #Выходной слой\n",
    "])\n",
    "model.compile(optimizer='adam', loss='sparse_categorical_crossentropy', metrics=['accuracy'])\n",
    "model.summary()"
   ]
  },
  {
   "cell_type": "code",
   "execution_count": 31,
   "id": "76d3af5a-fcb1-46a6-b752-a427a8bf7ca6",
   "metadata": {},
   "outputs": [
    {
     "name": "stdout",
     "output_type": "stream",
     "text": [
      "Epoch 1/5\n",
      "\u001b[1m52/52\u001b[0m \u001b[32m━━━━━━━━━━━━━━━━━━━━\u001b[0m\u001b[37m\u001b[0m \u001b[1m4s\u001b[0m 49ms/step - accuracy: 0.3377 - loss: 1.0984 - val_accuracy: 0.6482 - val_loss: 1.0569\n",
      "Epoch 2/5\n",
      "\u001b[1m52/52\u001b[0m \u001b[32m━━━━━━━━━━━━━━━━━━━━\u001b[0m\u001b[37m\u001b[0m \u001b[1m2s\u001b[0m 43ms/step - accuracy: 0.6823 - loss: 0.9579 - val_accuracy: 0.7952 - val_loss: 0.6407\n",
      "Epoch 3/5\n",
      "\u001b[1m52/52\u001b[0m \u001b[32m━━━━━━━━━━━━━━━━━━━━\u001b[0m\u001b[37m\u001b[0m \u001b[1m2s\u001b[0m 44ms/step - accuracy: 0.8876 - loss: 0.4429 - val_accuracy: 0.8482 - val_loss: 0.3795\n",
      "Epoch 4/5\n",
      "\u001b[1m52/52\u001b[0m \u001b[32m━━━━━━━━━━━━━━━━━━━━\u001b[0m\u001b[37m\u001b[0m \u001b[1m2s\u001b[0m 46ms/step - accuracy: 0.9649 - loss: 0.1470 - val_accuracy: 0.8867 - val_loss: 0.2908\n",
      "Epoch 5/5\n",
      "\u001b[1m52/52\u001b[0m \u001b[32m━━━━━━━━━━━━━━━━━━━━\u001b[0m\u001b[37m\u001b[0m \u001b[1m3s\u001b[0m 47ms/step - accuracy: 0.9706 - loss: 0.0859 - val_accuracy: 0.8723 - val_loss: 0.3075\n"
     ]
    }
   ],
   "source": [
    "# Обучение модели\n",
    "history = model.fit(\n",
    "    X_train, y_train,\n",
    "    epochs=5,\n",
    "    batch_size=32,\n",
    "    validation_split=0.2,\n",
    "    verbose=1\n",
    ")"
   ]
  },
  {
   "cell_type": "code",
   "execution_count": 32,
   "id": "d4c2774d-4711-4d0b-bec8-fafaefe10857",
   "metadata": {},
   "outputs": [
    {
     "name": "stdout",
     "output_type": "stream",
     "text": [
      "\u001b[1m28/28\u001b[0m \u001b[32m━━━━━━━━━━━━━━━━━━━━\u001b[0m\u001b[37m\u001b[0m \u001b[1m0s\u001b[0m 12ms/step - accuracy: 0.8909 - loss: 0.2947\n",
      "Accuracy: 0.89\n"
     ]
    }
   ],
   "source": [
    "loss, accuracy = model.evaluate(X_test, y_test)\n",
    "print(f\"Accuracy: {accuracy:.2f}\")"
   ]
  },
  {
   "cell_type": "markdown",
   "id": "627771a4-aade-41ef-9dbf-1a52cd5a0413",
   "metadata": {},
   "source": [
    "Для наглядности были построены графики точности и потерь для обученной модели"
   ]
  },
  {
   "cell_type": "code",
   "execution_count": 33,
   "id": "fa82957f-de42-4500-ab65-2b31ad342a8a",
   "metadata": {},
   "outputs": [
    {
     "data": {
      "image/png": "[encoded data removed]",
      "text/plain": [
       "<Figure size 640x480 with 1 Axes>"
      ]
     },
     "metadata": {},
     "output_type": "display_data"
    },
    {
     "data": {
      "image/png": "[encoded data removed]",
      "text/plain": [
       "<Figure size 640x480 with 1 Axes>"
      ]
     },
     "metadata": {},
     "output_type": "display_data"
    }
   ],
   "source": [
    "import matplotlib.pyplot as plt\n",
    "\n",
    "plt.plot(history.history['accuracy'], label='Training Accuracy')\n",
    "plt.plot(history.history['val_accuracy'], label='Validation Accuracy')\n",
    "plt.title('Accuracy over Epochs')\n",
    "plt.xlabel('Epochs')\n",
    "plt.ylabel('Accuracy')\n",
    "plt.legend()\n",
    "plt.show()\n",
    "\n",
    "plt.plot(history.history['loss'], label='Training Loss')\n",
    "plt.plot(history.history['val_loss'], label='Validation Loss')\n",
    "plt.title('Loss over Epochs')\n",
    "plt.xlabel('Epochs')\n",
    "plt.ylabel('Loss')\n",
    "plt.legend()\n",
    "plt.show()"
   ]
  }
 ],
 "metadata": {
  "kernelspec": {
   "display_name": "Python 3 (ipykernel)",
   "language": "python",
   "name": "python3"
  },
  "language_info": {
   "codemirror_mode": {
    "name": "ipython",
    "version": 3
   },
   "file_extension": ".py",
   "mimetype": "text/x-python",
   "name": "python",
   "nbconvert_exporter": "python",
   "pygments_lexer": "ipython3",
   "version": "3.12.3"
  }
 },
 "nbformat": 4,
 "nbformat_minor": 5
}
