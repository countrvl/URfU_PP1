{
 "cells": [
  {
   "cell_type": "code",
   "execution_count": null,
   "id": "e69471cb-6b64-4ff5-acbd-fc5a7cb922e1",
   "metadata": {},
   "outputs": [],
   "source": [
    "\"\"\"\n",
    "Файл для сдачи\n",
    "\"\"\""
   ]
  }
 ],
 "metadata": {
  "kernelspec": {
   "display_name": "Python 3 (ipykernel)",
   "language": "python",
   "name": "python3"
  },
  "language_info": {
   "codemirror_mode": {
    "name": "ipython",
    "version": 3
   },
   "file_extension": ".py",
   "mimetype": "text/x-python",
   "name": "python",
   "nbconvert_exporter": "python",
   "pygments_lexer": "ipython3",
   "version": "3.12.4"
  }
 },
 "nbformat": 4,
 "nbformat_minor": 5
}
