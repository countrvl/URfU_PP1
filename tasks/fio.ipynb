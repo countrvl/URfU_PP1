{
 "cells": [
  {
   "metadata": {},
   "cell_type": "markdown",
   "source": "1. Загрузка данных",
   "id": "b67026e03b47d9cf"
  },
  {
   "metadata": {
    "collapsed": true,
    "ExecuteTime": {
     "end_time": "2024-11-11T16:44:36.281885Z",
     "start_time": "2024-11-11T16:44:33.532437Z"
    }
   },
   "cell_type": "code",
   "source": [
    "# Посмотрим данные датасета\n",
    "\n",
    "# Загрузим тренировочные данные\n",
    "import pandas as pd\n",
    "from pandas.core.interchange.from_dataframe import categorical_column_to_series\n",
    "\n",
    "from sklearn.preprocessing import StandardScaler\n",
    "from untitled1.venv.Lib.enum import unique\n",
    "\n",
    "train_df = pd.read_csv('train.csv')\n",
    "\n",
    "# Посмотрим на первые 5 строк\n",
    "print(train_df.head())\n",
    "\n",
    "# Выведем список всех столбцов\n",
    "print(train_df.columns)"
   ],
   "id": "initial_id",
   "outputs": [
    {
     "name": "stdout",
     "output_type": "stream",
     "text": [
      "   id  Marital status  Application mode  Application order  Course  \\\n",
      "0   0               1                 1                  1    9238   \n",
      "1   1               1                17                  1    9238   \n",
      "2   2               1                17                  2    9254   \n",
      "3   3               1                 1                  3    9500   \n",
      "4   4               1                 1                  2    9500   \n",
      "\n",
      "   Daytime/evening attendance  Previous qualification  \\\n",
      "0                           1                       1   \n",
      "1                           1                       1   \n",
      "2                           1                       1   \n",
      "3                           1                       1   \n",
      "4                           1                       1   \n",
      "\n",
      "   Previous qualification (grade)  Nacionality  Mother's qualification  ...  \\\n",
      "0                           126.0            1                       1  ...   \n",
      "1                           125.0            1                      19  ...   \n",
      "2                           137.0            1                       3  ...   \n",
      "3                           131.0            1                      19  ...   \n",
      "4                           132.0            1                      19  ...   \n",
      "\n",
      "   Curricular units 2nd sem (credited)  Curricular units 2nd sem (enrolled)  \\\n",
      "0                                    0                                    6   \n",
      "1                                    0                                    6   \n",
      "2                                    0                                    6   \n",
      "3                                    0                                    8   \n",
      "4                                    0                                    7   \n",
      "\n",
      "   Curricular units 2nd sem (evaluations)  \\\n",
      "0                                       7   \n",
      "1                                       9   \n",
      "2                                       0   \n",
      "3                                      11   \n",
      "4                                      12   \n",
      "\n",
      "   Curricular units 2nd sem (approved)  Curricular units 2nd sem (grade)  \\\n",
      "0                                    6                         12.428571   \n",
      "1                                    0                          0.000000   \n",
      "2                                    0                          0.000000   \n",
      "3                                    7                         12.820000   \n",
      "4                                    6                         12.933333   \n",
      "\n",
      "   Curricular units 2nd sem (without evaluations)  Unemployment rate  \\\n",
      "0                                               0               11.1   \n",
      "1                                               0               11.1   \n",
      "2                                               0               16.2   \n",
      "3                                               0               11.1   \n",
      "4                                               0                7.6   \n",
      "\n",
      "   Inflation rate   GDP    Target  \n",
      "0             0.6  2.02  Graduate  \n",
      "1             0.6  2.02   Dropout  \n",
      "2             0.3 -0.92   Dropout  \n",
      "3             0.6  2.02  Enrolled  \n",
      "4             2.6  0.32  Graduate  \n",
      "\n",
      "[5 rows x 38 columns]\n",
      "Index(['id', 'Marital status', 'Application mode', 'Application order',\n",
      "       'Course', 'Daytime/evening attendance', 'Previous qualification',\n",
      "       'Previous qualification (grade)', 'Nacionality',\n",
      "       'Mother's qualification', 'Father's qualification',\n",
      "       'Mother's occupation', 'Father's occupation', 'Admission grade',\n",
      "       'Displaced', 'Educational special needs', 'Debtor',\n",
      "       'Tuition fees up to date', 'Gender', 'Scholarship holder',\n",
      "       'Age at enrollment', 'International',\n",
      "       'Curricular units 1st sem (credited)',\n",
      "       'Curricular units 1st sem (enrolled)',\n",
      "       'Curricular units 1st sem (evaluations)',\n",
      "       'Curricular units 1st sem (approved)',\n",
      "       'Curricular units 1st sem (grade)',\n",
      "       'Curricular units 1st sem (without evaluations)',\n",
      "       'Curricular units 2nd sem (credited)',\n",
      "       'Curricular units 2nd sem (enrolled)',\n",
      "       'Curricular units 2nd sem (evaluations)',\n",
      "       'Curricular units 2nd sem (approved)',\n",
      "       'Curricular units 2nd sem (grade)',\n",
      "       'Curricular units 2nd sem (without evaluations)', 'Unemployment rate',\n",
      "       'Inflation rate', 'GDP', 'Target'],\n",
      "      dtype='object')\n"
     ]
    }
   ],
   "execution_count": 1
  },
  {
   "metadata": {},
   "cell_type": "markdown",
   "source": "2 Предварительный анализ данных",
   "id": "e7a5de574b11290f"
  },
  {
   "metadata": {
    "ExecuteTime": {
     "end_time": "2024-11-09T16:16:19.188490Z",
     "start_time": "2024-11-09T16:16:19.144115Z"
    }
   },
   "cell_type": "code",
   "source": [
    "# Посмотрим общую информацию о данных. Типы данных и количество ненулевых значений в каждом столбце\n",
    "\n",
    "# Посмотрим на первые 5 строк\n",
    "print(train_df.head())\n",
    "\n",
    "# Количество строк и столбцов\n",
    "print(train_df.shape)\n",
    "\n",
    "# Выведем список всех столбцов\n",
    "print(train_df.columns)\n",
    "\n",
    "# Посмотрим на первые 5 строк\n",
    "print(train_df.head())\n",
    "\n",
    " # Информация о типах данных и пропущенных значениях\n",
    "print(train_df.info())\n",
    "\n",
    "# Статистика по числовым данным\n",
    "print(train_df.describe())\n",
    "\n",
    "# Количество уникальных значений в каждом столбце\n",
    "unique_counts = train_df.nunique()\n",
    "print('Количество уникальных значений в каждом столбце:\\n', unique_counts)\n",
    "\n",
    "\n"
   ],
   "id": "b223293ba8accd41",
   "outputs": [
    {
     "ename": "NameError",
     "evalue": "name 'train_df' is not defined",
     "output_type": "error",
     "traceback": [
      "\u001B[1;31m---------------------------------------------------------------------------\u001B[0m",
      "\u001B[1;31mNameError\u001B[0m                                 Traceback (most recent call last)",
      "Cell \u001B[1;32mIn[10], line 4\u001B[0m\n\u001B[0;32m      1\u001B[0m \u001B[38;5;66;03m# Посмотрим общую информацию о данных. Типы данных и количество ненулевых значений в каждом столбце\u001B[39;00m\n\u001B[0;32m      2\u001B[0m \n\u001B[0;32m      3\u001B[0m \u001B[38;5;66;03m# Посмотрим на первые 5 строк\u001B[39;00m\n\u001B[1;32m----> 4\u001B[0m \u001B[38;5;28mprint\u001B[39m(\u001B[43mtrain_df\u001B[49m\u001B[38;5;241m.\u001B[39mhead())\n\u001B[0;32m      6\u001B[0m \u001B[38;5;66;03m# Количество строк и столбцов\u001B[39;00m\n\u001B[0;32m      7\u001B[0m \u001B[38;5;28mprint\u001B[39m(train_df\u001B[38;5;241m.\u001B[39mshape)\n",
      "\u001B[1;31mNameError\u001B[0m: name 'train_df' is not defined"
     ]
    }
   ],
   "execution_count": 10
  },
  {
   "metadata": {},
   "cell_type": "markdown",
   "source": "Выявим пропуски данных",
   "id": "726c517d46e27ab5"
  },
  {
   "metadata": {
    "ExecuteTime": {
     "end_time": "2024-11-09T16:16:24.942791Z",
     "start_time": "2024-11-09T16:16:24.907668Z"
    }
   },
   "cell_type": "code",
   "source": [
    "# Количество пропущенных значений в каждом столбце\n",
    "print(train_df.isnull().sum())"
   ],
   "id": "17327f294710dfeb",
   "outputs": [
    {
     "ename": "NameError",
     "evalue": "name 'train_df' is not defined",
     "output_type": "error",
     "traceback": [
      "\u001B[1;31m---------------------------------------------------------------------------\u001B[0m",
      "\u001B[1;31mNameError\u001B[0m                                 Traceback (most recent call last)",
      "Cell \u001B[1;32mIn[11], line 2\u001B[0m\n\u001B[0;32m      1\u001B[0m \u001B[38;5;66;03m# Количество пропущенных значений в каждом столбце\u001B[39;00m\n\u001B[1;32m----> 2\u001B[0m \u001B[38;5;28mprint\u001B[39m(\u001B[43mtrain_df\u001B[49m\u001B[38;5;241m.\u001B[39misnull()\u001B[38;5;241m.\u001B[39msum())\n",
      "\u001B[1;31mNameError\u001B[0m: name 'train_df' is not defined"
     ]
    }
   ],
   "execution_count": 11
  },
  {
   "metadata": {},
   "cell_type": "markdown",
   "source": "Выявим категориальные признаки",
   "id": "1a439504598239f3"
  },
  {
   "metadata": {
    "ExecuteTime": {
     "end_time": "2024-11-07T21:39:11.330877900Z",
     "start_time": "2024-11-07T13:34:25.496088Z"
    }
   },
   "cell_type": "code",
   "source": [
    "# Проверим какие столбцы являются категориальными\n",
    "print(train_df.dtypes)\n",
    "\n",
    "# Выберем столбцы с типами данных object, которые обычно представляют категориальные признаки\n",
    "categorical_cols = train_df.select_dtypes(include=[object])"
   ],
   "id": "39f82cdabe7b52c5",
   "outputs": [
    {
     "name": "stdout",
     "output_type": "stream",
     "text": [
      "id                                                  int64\n",
      "Marital status                                      int64\n",
      "Application mode                                    int64\n",
      "Application order                                   int64\n",
      "Course                                              int64\n",
      "Daytime/evening attendance                          int64\n",
      "Previous qualification                              int64\n",
      "Previous qualification (grade)                    float64\n",
      "Nacionality                                         int64\n",
      "Mother's qualification                              int64\n",
      "Father's qualification                              int64\n",
      "Mother's occupation                                 int64\n",
      "Father's occupation                                 int64\n",
      "Admission grade                                   float64\n",
      "Displaced                                           int64\n",
      "Educational special needs                           int64\n",
      "Debtor                                              int64\n",
      "Tuition fees up to date                             int64\n",
      "Gender                                              int64\n",
      "Scholarship holder                                  int64\n",
      "Age at enrollment                                   int64\n",
      "International                                       int64\n",
      "Curricular units 1st sem (credited)                 int64\n",
      "Curricular units 1st sem (enrolled)                 int64\n",
      "Curricular units 1st sem (evaluations)              int64\n",
      "Curricular units 1st sem (approved)                 int64\n",
      "Curricular units 1st sem (grade)                  float64\n",
      "Curricular units 1st sem (without evaluations)      int64\n",
      "Curricular units 2nd sem (credited)                 int64\n",
      "Curricular units 2nd sem (enrolled)                 int64\n",
      "Curricular units 2nd sem (evaluations)              int64\n",
      "Curricular units 2nd sem (approved)                 int64\n",
      "Curricular units 2nd sem (grade)                  float64\n",
      "Curricular units 2nd sem (without evaluations)      int64\n",
      "Unemployment rate                                 float64\n",
      "Inflation rate                                    float64\n",
      "GDP                                               float64\n",
      "Target                                             object\n",
      "dtype: object\n"
     ]
    }
   ],
   "execution_count": 19
  },
  {
   "metadata": {},
   "cell_type": "markdown",
   "source": "Преобразование категориальных данных",
   "id": "15e86f199f6aa3c0"
  },
  {
   "metadata": {
    "ExecuteTime": {
     "end_time": "2024-11-07T21:39:11.331879Z",
     "start_time": "2024-11-07T14:50:20.908890Z"
    }
   },
   "cell_type": "code",
   "source": [
    "from sklearn.preprocessing import LabelEncoder\n",
    "\n",
    "# Инициализируем кодировщик\n",
    "label_encoder = LabelEncoder()\n",
    "\n",
    "# Применим к категориальному столбцу\n",
    "train_df['Target_encoded'] = label_encoder.fit_transform(train_df['Target'])\n",
    "print(train_df[['Target', 'Target_encoded']].head())"
   ],
   "id": "1d097e5524ddd420",
   "outputs": [
    {
     "name": "stdout",
     "output_type": "stream",
     "text": [
      "     Target  Target_encoded\n",
      "0  Graduate               2\n",
      "1   Dropout               0\n",
      "2   Dropout               0\n",
      "3  Enrolled               1\n",
      "4  Graduate               2\n"
     ]
    }
   ],
   "execution_count": 29
  },
  {
   "metadata": {},
   "cell_type": "markdown",
   "source": "Нормирование данных методом  нормализации Min-Max",
   "id": "84738fc5a8dc5b45"
  },
  {
   "metadata": {
    "ExecuteTime": {
     "end_time": "2024-11-07T21:39:11.349865800Z",
     "start_time": "2024-11-07T15:27:34.743462Z"
    }
   },
   "cell_type": "code",
   "source": [
    "from sklearn.preprocessing import MinMaxScaler\n",
    "\n",
    "scaler = MinMaxScaler()\n",
    "train_df[['Target_encoded']] = scaler.fit_transform(train_df[['Target_encoded']])\n",
    "print(train_df.head())\n",
    "# Проверка на нормализацию (для Min-Max Scaling должны быть значения от 0 до 1)\n",
    "print(train_df[['Target_encoded']].min())  # Ожидаем 0\n",
    "print(train_df[['Target_encoded']].max())  # Ожидаем 1\n",
    "\n",
    "# Выводим первые строки, чтобы увидеть результат\n",
    "print(train_df[['Target', 'Target_encoded']].head())"
   ],
   "id": "7105a8bc511ce5ec",
   "outputs": [
    {
     "name": "stdout",
     "output_type": "stream",
     "text": [
      "   id  Marital status  Application mode  Application order  Course  \\\n",
      "0   0               1                 1                  1    9238   \n",
      "1   1               1                17                  1    9238   \n",
      "2   2               1                17                  2    9254   \n",
      "3   3               1                 1                  3    9500   \n",
      "4   4               1                 1                  2    9500   \n",
      "\n",
      "   Daytime/evening attendance  Previous qualification  \\\n",
      "0                           1                       1   \n",
      "1                           1                       1   \n",
      "2                           1                       1   \n",
      "3                           1                       1   \n",
      "4                           1                       1   \n",
      "\n",
      "   Previous qualification (grade)  Nacionality  Mother's qualification  ...  \\\n",
      "0                           126.0            1                       1  ...   \n",
      "1                           125.0            1                      19  ...   \n",
      "2                           137.0            1                       3  ...   \n",
      "3                           131.0            1                      19  ...   \n",
      "4                           132.0            1                      19  ...   \n",
      "\n",
      "   Curricular units 2nd sem (enrolled)  \\\n",
      "0                                    6   \n",
      "1                                    6   \n",
      "2                                    6   \n",
      "3                                    8   \n",
      "4                                    7   \n",
      "\n",
      "   Curricular units 2nd sem (evaluations)  \\\n",
      "0                                       7   \n",
      "1                                       9   \n",
      "2                                       0   \n",
      "3                                      11   \n",
      "4                                      12   \n",
      "\n",
      "   Curricular units 2nd sem (approved)  Curricular units 2nd sem (grade)  \\\n",
      "0                                    6                         12.428571   \n",
      "1                                    0                          0.000000   \n",
      "2                                    0                          0.000000   \n",
      "3                                    7                         12.820000   \n",
      "4                                    6                         12.933333   \n",
      "\n",
      "   Curricular units 2nd sem (without evaluations)  Unemployment rate  \\\n",
      "0                                               0               11.1   \n",
      "1                                               0               11.1   \n",
      "2                                               0               16.2   \n",
      "3                                               0               11.1   \n",
      "4                                               0                7.6   \n",
      "\n",
      "   Inflation rate   GDP    Target  Target_encoded  \n",
      "0             0.6  2.02  Graduate             1.0  \n",
      "1             0.6  2.02   Dropout             0.0  \n",
      "2             0.3 -0.92   Dropout             0.0  \n",
      "3             0.6  2.02  Enrolled             0.5  \n",
      "4             2.6  0.32  Graduate             1.0  \n",
      "\n",
      "[5 rows x 39 columns]\n",
      "Target_encoded    0.0\n",
      "dtype: float64\n",
      "Target_encoded    1.0\n",
      "dtype: float64\n",
      "     Target  Target_encoded\n",
      "0  Graduate             1.0\n",
      "1   Dropout             0.0\n",
      "2   Dropout             0.0\n",
      "3  Enrolled             0.5\n",
      "4  Graduate             1.0\n"
     ]
    }
   ],
   "execution_count": 36
  },
  {
   "metadata": {},
   "cell_type": "markdown",
   "source": "Инжиниринг признаков",
   "id": "3c8450f9f3e98063"
  },
  {
   "metadata": {
    "ExecuteTime": {
     "end_time": "2024-11-09T16:15:05.178129Z",
     "start_time": "2024-11-09T16:15:05.137723Z"
    }
   },
   "cell_type": "code",
   "source": [
    "unique_values = train_df['Target'].unique()\n",
    "print(unique_values)\n",
    "unique_counts = train_df.nunique()\n",
    "print('Количество уникальных значений в каждом столбце:\\n', unique_counts)\n"
   ],
   "id": "47f35a5b5ca1060a",
   "outputs": [
    {
     "ename": "NameError",
     "evalue": "name 'train_df' is not defined",
     "output_type": "error",
     "traceback": [
      "\u001B[1;31m---------------------------------------------------------------------------\u001B[0m",
      "\u001B[1;31mNameError\u001B[0m                                 Traceback (most recent call last)",
      "Cell \u001B[1;32mIn[7], line 1\u001B[0m\n\u001B[1;32m----> 1\u001B[0m unique_values \u001B[38;5;241m=\u001B[39m \u001B[43mtrain_df\u001B[49m[\u001B[38;5;124m'\u001B[39m\u001B[38;5;124mTarget\u001B[39m\u001B[38;5;124m'\u001B[39m]\u001B[38;5;241m.\u001B[39munique()\n\u001B[0;32m      2\u001B[0m \u001B[38;5;28mprint\u001B[39m(unique_values)\n\u001B[0;32m      3\u001B[0m unique_counts \u001B[38;5;241m=\u001B[39m train_df\u001B[38;5;241m.\u001B[39mnunique()\n",
      "\u001B[1;31mNameError\u001B[0m: name 'train_df' is not defined"
     ]
    }
   ],
   "execution_count": 7
  },
  {
   "metadata": {
    "ExecuteTime": {
     "end_time": "2024-11-09T16:04:03.919316Z",
     "start_time": "2024-11-09T16:04:03.910113Z"
    }
   },
   "cell_type": "code",
   "source": [
    "# Полиномиальные признаки\n",
    "import numpy as np\n",
    "import numpy as np\n",
    "import matplotlib.pyplot as plt"
   ],
   "id": "94e748022563da1",
   "outputs": [],
   "execution_count": 3
  },
  {
   "metadata": {
    "ExecuteTime": {
     "end_time": "2024-11-09T15:58:35.187654Z",
     "start_time": "2024-11-09T15:58:33.940463Z"
    }
   },
   "cell_type": "code",
   "source": [
    "# порождаем данные\n",
    "\n",
    "\n",
    "# 1. Загрузка данных\n",
    "url = \"https://www.kaggle.com/competitions/playground-series-s4e6\"  \n",
    "data = pd.read_csv(url)\n",
    "\n",
    "\n",
    "# 2. Предварительная обработка данных\n",
    "# Предположим, что мы используем 'Admission grade' и 'Age at enrollment' как примеры признаков\n",
    "X = data[['Admission grade', 'Age at enrollment']].values  # Замените на ваши признаки\n",
    "\n",
    "# Целевая переменная (например, 'Target' может быть бинарной)\n",
    "# Преобразуем целевую переменную в логическую\n",
    "y = data['Target'].apply(lambda x: 1 if x == 'some_value' else 0).values  # Замените 'some_value' на значение, которое вас интересует\n",
    "\n",
    "# 3. Визуализация данных\n",
    "plt.scatter(X[:, 0], X[:, 1], s=30, c=y, cmap=plt.cm.Paired)\n",
    "plt.xlabel('Admission Grade')\n",
    "plt.ylabel('Age at Enrollment')\n",
    "plt.title('Scatter Plot of Admission Grade vs Age at Enrollment')\n",
    "plt.colorbar(label='Target')\n",
    "plt.show()\n"
   ],
   "id": "163a57808ccd9669",
   "outputs": [
    {
     "data": {
      "text/plain": [
       "<Figure size 640x480 with 1 Axes>"
      ],
      "image/png": "[encoded data removed]"
     },
     "metadata": {},
     "output_type": "display_data"
    }
   ],
   "execution_count": 2
  }
 ],
 "metadata": {
  "kernelspec": {
   "display_name": "Python 3",
   "language": "python",
   "name": "python3"
  },
  "language_info": {
   "codemirror_mode": {
    "name": "ipython",
    "version": 2
   },
   "file_extension": ".py",
   "mimetype": "text/x-python",
   "name": "python",
   "nbconvert_exporter": "python",
   "pygments_lexer": "ipython2",
   "version": "2.7.6"
  }
 },
 "nbformat": 4,
 "nbformat_minor": 5
}
