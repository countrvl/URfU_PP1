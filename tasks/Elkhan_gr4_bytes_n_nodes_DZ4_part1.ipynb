{
 "cells": [
  {
   "cell_type": "markdown",
   "id": "08e70300-5713-4ad7-8a8e-3138fb54915b",
   "metadata": {},
   "source": [
    "#  1. Загрузка данных проекта в среду разработки"
   ]
  },
  {
   "cell_type": "code",
   "execution_count": 3,
   "id": "2dc7efb0-c4dd-4b45-9c54-6dde7955ff1c",
   "metadata": {},
   "outputs": [
    {
     "name": "stdout",
     "output_type": "stream",
     "text": [
      "       Marital status  Application mode  Application order  Course  \\\n",
      "id                                                                   \n",
      "0                   1                 1                  1    9238   \n",
      "1                   1                17                  1    9238   \n",
      "2                   1                17                  2    9254   \n",
      "3                   1                 1                  3    9500   \n",
      "4                   1                 1                  2    9500   \n",
      "...               ...               ...                ...     ...   \n",
      "76513               1                17                  1    9254   \n",
      "76514               1                 1                  6    9254   \n",
      "76515               5                17                  1    9085   \n",
      "76516               1                 1                  3    9070   \n",
      "76517               1                 1                  1    9773   \n",
      "\n",
      "       Daytime/evening attendance  Previous qualification  \\\n",
      "id                                                          \n",
      "0                               1                       1   \n",
      "1                               1                       1   \n",
      "2                               1                       1   \n",
      "3                               1                       1   \n",
      "4                               1                       1   \n",
      "...                           ...                     ...   \n",
      "76513                           1                       1   \n",
      "76514                           1                       1   \n",
      "76515                           1                       1   \n",
      "76516                           1                       1   \n",
      "76517                           1                       1   \n",
      "\n",
      "       Previous qualification (grade)  Nacionality  Mother's qualification  \\\n",
      "id                                                                           \n",
      "0                               126.0            1                       1   \n",
      "1                               125.0            1                      19   \n",
      "2                               137.0            1                       3   \n",
      "3                               131.0            1                      19   \n",
      "4                               132.0            1                      19   \n",
      "...                               ...          ...                     ...   \n",
      "76513                           121.0            1                      19   \n",
      "76514                           125.0            1                       1   \n",
      "76515                           138.0            1                      37   \n",
      "76516                           136.0            1                      38   \n",
      "76517                           133.1            1                      19   \n",
      "\n",
      "       Father's qualification  ...  Curricular units 2nd sem (credited)  \\\n",
      "id                             ...                                        \n",
      "0                          19  ...                                    0   \n",
      "1                          19  ...                                    0   \n",
      "2                          19  ...                                    0   \n",
      "3                           3  ...                                    0   \n",
      "4                          37  ...                                    0   \n",
      "...                       ...  ...                                  ...   \n",
      "76513                       1  ...                                    0   \n",
      "76514                      38  ...                                    0   \n",
      "76515                      37  ...                                    0   \n",
      "76516                      37  ...                                    0   \n",
      "76517                      19  ...                                    0   \n",
      "\n",
      "       Curricular units 2nd sem (enrolled)  \\\n",
      "id                                           \n",
      "0                                        6   \n",
      "1                                        6   \n",
      "2                                        6   \n",
      "3                                        8   \n",
      "4                                        7   \n",
      "...                                    ...   \n",
      "76513                                    6   \n",
      "76514                                    6   \n",
      "76515                                    5   \n",
      "76516                                    6   \n",
      "76517                                    6   \n",
      "\n",
      "       Curricular units 2nd sem (evaluations)  \\\n",
      "id                                              \n",
      "0                                           7   \n",
      "1                                           9   \n",
      "2                                           0   \n",
      "3                                          11   \n",
      "4                                          12   \n",
      "...                                       ...   \n",
      "76513                                       8   \n",
      "76514                                       9   \n",
      "76515                                       8   \n",
      "76516                                       0   \n",
      "76517                                       6   \n",
      "\n",
      "       Curricular units 2nd sem (approved)  Curricular units 2nd sem (grade)  \\\n",
      "id                                                                             \n",
      "0                                        6                         12.428571   \n",
      "1                                        0                          0.000000   \n",
      "2                                        0                          0.000000   \n",
      "3                                        7                         12.820000   \n",
      "4                                        6                         12.933333   \n",
      "...                                    ...                               ...   \n",
      "76513                                    5                         10.600000   \n",
      "76514                                    6                         13.875000   \n",
      "76515                                    5                         11.400000   \n",
      "76516                                    0                          0.000000   \n",
      "76517                                    6                         13.666667   \n",
      "\n",
      "       Curricular units 2nd sem (without evaluations)  Unemployment rate  \\\n",
      "id                                                                         \n",
      "0                                                   0               11.1   \n",
      "1                                                   0               11.1   \n",
      "2                                                   0               16.2   \n",
      "3                                                   0               11.1   \n",
      "4                                                   0                7.6   \n",
      "...                                               ...                ...   \n",
      "76513                                               0               13.9   \n",
      "76514                                               0                9.4   \n",
      "76515                                               1                9.4   \n",
      "76516                                               0                7.6   \n",
      "76517                                               0               15.5   \n",
      "\n",
      "       Inflation rate   GDP    Target  \n",
      "id                                     \n",
      "0                 0.6  2.02  Graduate  \n",
      "1                 0.6  2.02   Dropout  \n",
      "2                 0.3 -0.92   Dropout  \n",
      "3                 0.6  2.02  Enrolled  \n",
      "4                 2.6  0.32  Graduate  \n",
      "...               ...   ...       ...  \n",
      "76513            -0.3  0.79  Graduate  \n",
      "76514            -0.8 -3.12  Graduate  \n",
      "76515            -0.8 -3.12  Enrolled  \n",
      "76516             2.6  0.32   Dropout  \n",
      "76517             2.8 -4.06  Graduate  \n",
      "\n",
      "[76518 rows x 37 columns]\n"
     ]
    }
   ],
   "source": [
    "# Импорт необходимых библиотек\n",
    "import numpy as np\n",
    "import pandas as pd\n",
    "from sklearn.preprocessing import LabelEncoder, MinMaxScaler\n",
    "from sklearn.model_selection import train_test_split\n",
    "from sklearn.metrics import accuracy_score, classification_report, confusion_matrix\n",
    "from imblearn.over_sampling import SMOTE\n",
    "from xgboost import XGBClassifier\n",
    "# Загружаем датасет, знакомимся.\n",
    "import numpy as np\n",
    "import pandas as pd\n",
    "train = pd.read_csv('train.csv', index_col='id')\n",
    "test = pd.read_csv('test.csv', index_col='id')\n",
    "print(train)"
   ]
  },
  {
   "cell_type": "markdown",
   "id": "1223fffd-d1d7-419a-ac0d-59ff310e0f70",
   "metadata": {},
   "source": [
    "# 2. Преобразование целевой переменной"
   ]
  },
  {
   "cell_type": "code",
   "execution_count": 5,
   "id": "df99a76e-5cee-4626-b4d0-303926242cf0",
   "metadata": {},
   "outputs": [
    {
     "name": "stdout",
     "output_type": "stream",
     "text": [
      "Преобразованные значения 'Target': [2 0 1]\n"
     ]
    }
   ],
   "source": [
    "# Преобразование целевой переменной. Выясняем, что она многоклассовая\n",
    "le = LabelEncoder()\n",
    "train['Target'] = le.fit_transform(train['Target'])\n",
    "print(\"Преобразованные значения 'Target':\", train['Target'].unique())"
   ]
  },
  {
   "cell_type": "markdown",
   "id": "8ac3b0b4-5bc3-4909-9362-915610b2e227",
   "metadata": {},
   "source": [
    "# 3. Определение признаков. Повторяем определение признаков из предыдущего задания"
   ]
  },
  {
   "cell_type": "code",
   "execution_count": 7,
   "id": "5d871f0d-6836-4142-b712-c3adfa5ae48e",
   "metadata": {},
   "outputs": [],
   "source": [
    "# Делим ровно так же, как в задании 2.\n",
    "categorical_columns = [\n",
    "    \"Marital status\", \"Application mode\", \"Application order\", \"Course\",\n",
    "    \"Daytime/evening attendance\", \"Previous qualification\", \"Nacionality\",\n",
    "    \"Mother's qualification\", \"Father's qualification\", \"Mother's occupation\",\n",
    "    \"Father's occupation\", \"Displaced\", \"Educational special needs\", \"Debtor\",\n",
    "    \"Tuition fees up to date\", \"Gender\", \"Scholarship holder\", \"International\"\n",
    "]\n",
    "numerical_columns = [\n",
    "    \"Previous qualification (grade)\", \"Admission grade\", \"Age at enrollment\",\n",
    "    \"Curricular units 1st sem (credited)\", \"Curricular units 1st sem (enrolled)\",\n",
    "    \"Curricular units 1st sem (evaluations)\", \"Curricular units 1st sem (approved)\",\n",
    "    \"Curricular units 1st sem (grade)\", \"Curricular units 1st sem (without evaluations)\",\n",
    "    \"Curricular units 2nd sem (credited)\", \"Curricular units 2nd sem (enrolled)\",\n",
    "    \"Curricular units 2nd sem (evaluations)\", \"Curricular units 2nd sem (approved)\",\n",
    "    \"Curricular units 2nd sem (grade)\", \"Curricular units 2nd sem (without evaluations)\",\n",
    "    \"Unemployment rate\", \"Inflation rate\", \"GDP\"\n",
    "]"
   ]
  },
  {
   "cell_type": "markdown",
   "id": "d33cb6d5-b7af-4061-b25e-3efcb825c319",
   "metadata": {},
   "source": [
    "# 4. Нормализация числовых признаков"
   ]
  },
  {
   "cell_type": "code",
   "execution_count": 9,
   "id": "ce6bbaa4-2974-4493-80cd-0e5cc006343f",
   "metadata": {},
   "outputs": [],
   "source": [
    "# Нормализация числовых признаков\n",
    "scaler = MinMaxScaler(feature_range=(0, 1))\n",
    "train[numerical_columns] = scaler.fit_transform(train[numerical_columns])"
   ]
  },
  {
   "cell_type": "markdown",
   "id": "52f83024-4cac-4131-ae87-a6686ce63213",
   "metadata": {},
   "source": [
    "# 5. Разделение данных на признаки и целевую переменную"
   ]
  },
  {
   "cell_type": "code",
   "execution_count": 11,
   "id": "dac2a8a8-64ab-4ead-b3da-e8ce1ead715f",
   "metadata": {},
   "outputs": [],
   "source": [
    "# Разделение данных на признаки и целевую переменную\n",
    "X = train.drop(columns=['Target'])\n",
    "y = train['Target']"
   ]
  },
  {
   "cell_type": "markdown",
   "id": "548c441d-4ead-4783-abce-20d6ca507159",
   "metadata": {},
   "source": [
    "# 6. Диапазон значений \n",
    "## Это набор гиперпараметров предназначен для модели XGBoost с задачей многоклассовой классификации\n",
    "Была выполнена задача по оптимизации поиска параметров из заданных диапазонов с помощью бибилиотеки Hyperopt.\n",
    "\n",
    "## Основные настройки:\n",
    "### objective: 'multi:softmax'\n",
    "Тип задачи — многоклассовая классификация. Модель предсказывает метку класса.\n",
    "\n",
    "### num_class: 3\n",
    "Количество классов в задаче.\n",
    "\n",
    "### random_state: 42\n",
    "Фиксирует случайность для воспроизводимости результатов.\n",
    "\n",
    "## Настройки структуры деревьев:\n",
    "### max_depth:\n",
    "Максимальная глубина каждого дерева. Более глубокие деревья могут моделировать сложные зависимости, но риск переобучения увеличивается.\n",
    "\n",
    "### min_child_weight:\n",
    "Минимальный вес суммарного градиента в дочерних узлах. Увеличение значения делает модель более консервативной.\n",
    "\n",
    "### max_delta_step:\n",
    "Максимальное изменение весов деревьев за одну итерацию. Помогает стабилизировать обучение, особенно при дисбалансе классов.\n",
    "\n",
    "## Настройки скорости обучения\n",
    "### learning_rate:\n",
    "Скорость обучения. Баланс между количеством деревьев и устойчивостью модели. Меньшие значения требуют большего числа итераций.\n",
    "\n",
    "### n_estimators:\n",
    "Количество деревьев в ансамбле\n",
    "\n",
    "## Настройки выборки данных и признаков:\n",
    "### colsample_bytree:\n",
    "Доля признаков, используемых для построения каждого дерева.\n",
    "\n",
    "### colsample_bylevel:\n",
    "Доля признаков, выбираемых на каждом уровне дерева.\n",
    "\n",
    "### colsample_bynode:\n",
    "Доля признаков для выбора на уровне каждого узла.\n",
    "\n",
    "### subsample:\n",
    "Доля обучающих данных, используемых для каждого дерева. Это снижает переобучение.\n"
   ]
  },
  {
   "cell_type": "code",
   "execution_count": 22,
   "id": "49a81716-d42a-4f63-ae2b-79228857973f",
   "metadata": {},
   "outputs": [],
   "source": [
    "from sklearn.preprocessing import LabelEncoder\n",
    "\n",
    "best_params = {\n",
    "    'objective': 'multi:softmax',\n",
    "    'num_class': 3,  # Количество классов\n",
    "    'random_state': 42,\n",
    "    'max_depth': 12, \n",
    "    'learning_rate': 0.1380959235295076, \n",
    "    'n_estimators': 229, \n",
    "    'colsample_bytree': 0.9428442050675058, \n",
    "    'min_child_weight': 4, \n",
    "    'subsample': 0.9200515940656013, \n",
    "    'colsample_bylevel': 0.6455519399349366, \n",
    "    'colsample_bynode': 0.6808130293292364, \n",
    "    'max_delta_step': 27\n",
    "}\n"
   ]
  },
  {
   "cell_type": "markdown",
   "id": "4fb3eb51-4fbc-4443-887c-f31df1b19900",
   "metadata": {},
   "source": [
    "# 7. Применяем SMOTE для устранения дисбаланса классов до разделения данных на обучающую и тестовою выборки, чтобы избежать утечки."
   ]
  },
  {
   "cell_type": "code",
   "execution_count": 15,
   "id": "7e2a2adf-b96a-46d2-821a-053e58b63b0a",
   "metadata": {},
   "outputs": [],
   "source": [
    "smote = SMOTE(random_state=42)\n",
    "X_resampled, y_resampled = smote.fit_resample(X, y)\n",
    "\n",
    "#Разделяем данные на обучающую и тестовую выборки\n",
    "X_train, X_test, y_train, y_test = train_test_split(\n",
    "    X_resampled, y_resampled, test_size=0.2, random_state=42\n",
    ")"
   ]
  },
  {
   "cell_type": "markdown",
   "id": "df788c9b-7b7a-4efb-a66d-5d6f4e0dfc24",
   "metadata": {},
   "source": [
    "# 8. Cоздаем и обучаем модель с найденными параметрами test)"
   ]
  },
  {
   "cell_type": "code",
   "execution_count": 17,
   "id": "aa27bcff-6596-48b5-a7e6-3ba9da19a229",
   "metadata": {},
   "outputs": [],
   "source": [
    "#  Обучение модели\n",
    "final_model = XGBClassifier(**best_params)\n",
    "final_model.fit(X_train, y_train)\n",
    "\n",
    "#  Прогнозируем на тестовой выборке\n",
    "y_pred = final_model.predict(X_test)"
   ]
  },
  {
   "cell_type": "markdown",
   "id": "4e4ecbdc-e433-4234-bf08-fcc15fed8886",
   "metadata": {},
   "source": [
    "# 9. Оцениваем точность модель"
   ]
  },
  {
   "cell_type": "code",
   "execution_count": 18,
   "id": "cc0656b3-c35c-417d-8c3c-3439d53bf8e2",
   "metadata": {},
   "outputs": [
    {
     "name": "stdout",
     "output_type": "stream",
     "text": [
      "Accuracy: 0.870509875976114\n",
      "Classification Report:\n",
      "Confusion Matrix with Class Labels:\n",
      "Class 0: [6200  690  333]\n",
      "Class 1: [ 437 5993  771]\n",
      "Class 2: [ 120  468 6758]\n",
      "\n",
      "Class-wise Metrics:\n",
      "Class 0:\n",
      "  Sensitivity (Recall): 0.8584\n",
      "  Specificity: 0.9617\n",
      "  Precision: 0.9176\n",
      "Class 1:\n",
      "  Sensitivity (Recall): 0.8322\n",
      "  Specificity: 0.9205\n",
      "  Precision: 0.8381\n",
      "Class 2:\n",
      "  Sensitivity (Recall): 0.9200\n",
      "  Specificity: 0.9235\n",
      "  Precision: 0.8596\n"
     ]
    }
   ],
   "source": [
    "# Оцениваем точность\n",
    "accuracy = accuracy_score(y_test, y_pred)\n",
    "print(f\"Accuracy: {accuracy}\")\n",
    "\n",
    "# Вывод отчета по классификации\n",
    "print(\"Classification Report:\")\n",
    "from sklearn.metrics import accuracy_score, classification_report, confusion_matrix\n",
    "\n",
    "# Вывод матрицы путаницы\n",
    "conf_matrix = confusion_matrix(y_test, y_pred)\n",
    "\n",
    "# Для удобства можно добавить строки с метками классов\n",
    "print(\"Confusion Matrix with Class Labels:\")\n",
    "for i, row in enumerate(conf_matrix):\n",
    "    print(f\"Class {i}: {row}\")\n",
    "    \n",
    "    \n",
    "# Рассчитываем метрики\n",
    "classes = range(best_params['num_class'])\n",
    "print(\"\\nClass-wise Metrics:\")\n",
    "for cls in classes:\n",
    "    TP = conf_matrix[cls, cls]\n",
    "    FP = conf_matrix[:, cls].sum() - TP\n",
    "    FN = conf_matrix[cls, :].sum() - TP\n",
    "    TN = conf_matrix.sum() - (TP + FP + FN)\n",
    "\n",
    "    sensitivity = TP / (TP + FN) if (TP + FN) > 0 else 0\n",
    "    specificity = TN / (TN + FP) if (TN + FP) > 0 else 0\n",
    "    precision = TP / (TP + FP) if (TP + FP) > 0 else 0\n",
    "\n",
    "    print(f\"Class {cls}:\")\n",
    "    print(f\"  Sensitivity (Recall): {sensitivity:.4f}\")\n",
    "    print(f\"  Specificity: {specificity:.4f}\")\n",
    "    print(f\"  Precision: {precision:.4f}\")"
   ]
  },
  {
   "cell_type": "markdown",
   "id": "40481c38-07f6-47c4-82fa-7cca41c7e763",
   "metadata": {},
   "source": [
    "# В целом, удалось добиться увеличения точности модели с 0.827 (без гиперпараметров и балансировкой, результат был выявлен на первых тестах, они не вошли в этот Notebook) до ≈ 0.8705 (с гиперпараметрами и балансировкой классов). Подобная модель была так же применена и на данных по итогам Спринта 2 (отбор топ-20 признаков, введение новых признаков), но она показала немного худший результат- 0.8542."
   ]
  },
  {
   "cell_type": "code",
   "execution_count": null,
   "id": "602508ca-55f4-419a-bc83-93b97cc95dd1",
   "metadata": {},
   "outputs": [],
   "source": []
  }
 ],
 "metadata": {
  "kernelspec": {
   "display_name": "Python 3 (ipykernel)",
   "language": "python",
   "name": "python3"
  },
  "language_info": {
   "codemirror_mode": {
    "name": "ipython",
    "version": 3
   },
   "file_extension": ".py",
   "mimetype": "text/x-python",
   "name": "python",
   "nbconvert_exporter": "python",
   "pygments_lexer": "ipython3",
   "version": "3.12.4"
  }
 },
 "nbformat": 4,
 "nbformat_minor": 5
}
