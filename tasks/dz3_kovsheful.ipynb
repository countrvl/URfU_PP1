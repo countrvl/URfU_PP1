{
 "cells": [
  {
   "metadata": {},
   "cell_type": "markdown",
   "source": [
    "# Academic Success Dataset, классификация\n",
    "#### [Source](https://www.kaggle.com/competitions/playground-series-s4e6)\n",
    "\n",
    "### Описание\n",
    "Цель - спрогнозировать академический риск студентов в высших учебных заведениях.\n",
    "Описание набора данных находится [здесь](https://archive.ics.uci.edu/dataset/697/predict+students+dropout+and+academic+success)"
   ],
   "id": "d9a13a5de5b3142c"
  },
  {
   "cell_type": "markdown",
   "id": "08e70300-5713-4ad7-8a8e-3138fb54915b",
   "metadata": {},
   "source": [
    "###  Загрузка данных проекта в среду разработки"
   ]
  },
  {
   "cell_type": "code",
   "id": "2dc7efb0-c4dd-4b45-9c54-6dde7955ff1c",
   "metadata": {},
   "source": [
    "import numpy as np\n",
    "import pandas as pd\n",
    "import matplotlib.pyplot as plt\n",
    "from tabulate import tabulate\n",
    "import seaborn as sns\n",
    "\n",
    "train = pd.read_csv('dataset/train.csv', index_col='id')\n",
    "test = pd.read_csv('dataset/test.csv', index_col='id')\n",
    "print(train)"
   ],
   "outputs": [],
   "execution_count": null
  },
  {
   "cell_type": "markdown",
   "id": "1223fffd-d1d7-419a-ac0d-59ff310e0f70",
   "metadata": {},
   "source": [
    "###  Проверка датасета данных на пропуски"
   ]
  },
  {
   "cell_type": "code",
   "id": "df99a76e-5cee-4626-b4d0-303926242cf0",
   "metadata": {},
   "source": [
    "# Проверка на пропуски\n",
    "train.isna().sum().sort_values(ascending=False)"
   ],
   "outputs": [],
   "execution_count": null
  },
  {
   "cell_type": "markdown",
   "id": "8ac3b0b4-5bc3-4909-9362-915610b2e227",
   "metadata": {},
   "source": [
    "###  Проверка датасета данных на дубликаты"
   ]
  },
  {
   "cell_type": "code",
   "id": "5d871f0d-6836-4142-b712-c3adfa5ae48e",
   "metadata": {},
   "source": [
    "# Проверяем, есть ли дубликаты\n",
    "train.duplicated().sum()"
   ],
   "outputs": [],
   "execution_count": null
  },
  {
   "cell_type": "markdown",
   "id": "d33cb6d5-b7af-4061-b25e-3efcb825c319",
   "metadata": {},
   "source": [
    "###  Взгляд на общую информацию по датасету"
   ]
  },
  {
   "cell_type": "code",
   "id": "ce6bbaa4-2974-4493-80cd-0e5cc006343f",
   "metadata": {},
   "source": [
    "# смотрим общую инфу по датасету\n",
    "train.info()"
   ],
   "outputs": [],
   "execution_count": null
  },
  {
   "metadata": {},
   "cell_type": "markdown",
   "source": "### Анализ целевой переменной",
   "id": "343a293de7c84b5"
  },
  {
   "metadata": {},
   "cell_type": "code",
   "source": "print(train['Target'].value_counts())",
   "id": "c157e629e89db4a1",
   "outputs": [],
   "execution_count": null
  },
  {
   "metadata": {},
   "cell_type": "markdown",
   "source": "В целевой переменной есть 3 класса. Классы несбалансированы. Целевая переменная, очевидно, категориальная, номинальный порядок.",
   "id": "a6a46dd19ea82b87"
  },
  {
   "cell_type": "markdown",
   "id": "52f83024-4cac-4131-ae87-a6686ce63213",
   "metadata": {},
   "source": [
    "###  Определяем категориальные и числовые признаки"
   ]
  },
  {
   "cell_type": "code",
   "id": "dac2a8a8-64ab-4ead-b3da-e8ce1ead715f",
   "metadata": {},
   "source": [
    "# Пытаемся определить, сколько категориальных и числовых признаков у нас есть.\n",
    "# Подобрал поиском и анализом примерную величину уникальных значений столбцов, которая позволяет провести эту границу\n",
    "cat_cols = [col for col in train.columns if train[col].nunique() <= 19]\n",
    "\n",
    "num_cols = [col for col in train.columns if train[col].nunique() >= 20]\n",
    "\n",
    "# Извлекаем и выводим уникальные значения для каждого категориального признака\n",
    "for col in cat_cols:\n",
    "    unique_values = train[col].unique()\n",
    "    print(f\"Уникальные значения в столбце категориальных признаков'{col}': {unique_values}\")\n",
    "\n",
    "# Извлекаем и выводим уникальные значения для каждого категориального признака\n",
    "for col in num_cols:\n",
    "    unique_values = train[col].unique()\n",
    "    print(f\"Уникальные значения в столбце числовых признаков'{col}': {unique_values}\")"
   ],
   "outputs": [],
   "execution_count": null
  },
  {
   "cell_type": "markdown",
   "id": "4fb3eb51-4fbc-4443-887c-f31df1b19900",
   "metadata": {},
   "source": [
    "###  Определяем категориальные и числовые признаки 2\n",
    "Количество уникальных значений не оказалось тем показателем, который бы указывал однозначено на то, категориальный ли это признак или числовой.\n",
    "Семантика тоже оказалась немаловажным признаком.\n",
    "\n",
    "Поэтому на основании информации, указанной в источнике данных, определили так:"
   ]
  },
  {
   "cell_type": "code",
   "id": "7e2a2adf-b96a-46d2-821a-053e58b63b0a",
   "metadata": {},
   "source": [
    "import pandas as pd\n",
    "\n",
    "# Категориальные признаки\n",
    "categorical_columns = [\n",
    "    \"Marital status\", \"Application mode\", \"Application order\", \"Course\",\n",
    "    \"Daytime/evening attendance\", \"Previous qualification\", \"Nacionality\",\n",
    "    \"Mother's qualification\", \"Father's qualification\", \"Mother's occupation\",\n",
    "    \"Father's occupation\", \"Displaced\", \"Educational special needs\", \"Debtor\",\n",
    "    \"Tuition fees up to date\", \"Gender\", \"Scholarship holder\", \"International\"\n",
    "]\n",
    "# числовые признаки\n",
    "numerical_columns = [\n",
    "    \"Previous qualification (grade)\", \"Admission grade\", \"Age at enrollment\",\n",
    "    \"Curricular units 1st sem (credited)\", \"Curricular units 1st sem (enrolled)\",\n",
    "    \"Curricular units 1st sem (evaluations)\", \"Curricular units 1st sem (approved)\",\n",
    "    \"Curricular units 1st sem (grade)\", \"Curricular units 1st sem (without evaluations)\",\n",
    "    \"Curricular units 2nd sem (credited)\", \"Curricular units 2nd sem (enrolled)\",\n",
    "    \"Curricular units 2nd sem (evaluations)\", \"Curricular units 2nd sem (approved)\",\n",
    "    \"Curricular units 2nd sem (grade)\", \"Curricular units 2nd sem (without evaluations)\",\n",
    "    \"Unemployment rate\", \"Inflation rate\", \"GDP\"\n",
    "]\n",
    "\n",
    "print(\"Categorical Columns:\")\n",
    "for column in categorical_columns:\n",
    "    print(column)\n",
    "\n",
    "print(\"\\n\")\n",
    "\n",
    "print(\"Numerical Columns:\")\n",
    "for column in numerical_columns:\n",
    "    print(column)\n"
   ],
   "outputs": [],
   "execution_count": null
  },
  {
   "metadata": {},
   "cell_type": "markdown",
   "source": [
    "### Визуализация данных\n",
    "Построим графики распределения данных для каждого признака"
   ],
   "id": "63a3ff4564c5cee1"
  },
  {
   "metadata": {},
   "cell_type": "code",
   "source": [
    "def count_plot_cols_and_rows(features: list, cols=3) -> tuple:\n",
    "    \"\"\"\n",
    "    Function to calculate the number of rows and columns required for plotting the features on a grid in one figure.\n",
    "    @param cols: Desired amount of plot\n",
    "    @param features: List of features\n",
    "    @return: Tuple with number of rows and columns\n",
    "    \"\"\"\n",
    "    num_features = len(features)\n",
    "    # num / col - counts requires amount of rows for num features. + cols - 1 add extra row if num % col != 0, for example  7 // 3 == 2, 2 * 3 = 6, one plot will be missed. -1 to not add extra row if num % col == 0\n",
    "    rows = (num_features + cols - 1) // cols\n",
    "    return rows, cols\n",
    "\n",
    "\n",
    "def plot_numeric_categorical_features(df: pd.DataFrame, categorical_features: list, numeric_features: list):\n",
    "    \"\"\"\n",
    "    Function to plot the distribution of numerical features using histograms and categorical features using bar plots.\n",
    "    @param df: Pandas DataFrame\n",
    "    @param categorical_features: List of categorical features\n",
    "    @param numeric_features: List of numerical features\n",
    "    \"\"\"\n",
    "\n",
    "    rows, cols = count_plot_cols_and_rows(numeric_features)\n",
    "    fig, axes = plt.subplots(rows, cols, figsize=(15, rows * 4))\n",
    "    axes = axes.flatten()\n",
    "    for idx, feature in enumerate(numeric_features):\n",
    "        ax = axes[idx]\n",
    "        ax.hist(df[feature], bins=30, color='skyblue', edgecolor='black')\n",
    "        ax.set_title(feature)\n",
    "        ax.grid(axis='y', linestyle='--', alpha=0.7)\n",
    "    plt.tight_layout(pad=1.08, h_pad=3, w_pad=3)\n",
    "    plt.savefig('plots/numeric_features.png', dpi=300)\n",
    "    plt.show()\n",
    "\n",
    "    rows, cols = count_plot_cols_and_rows(categorical_features)\n",
    "    fig, axes = plt.subplots(rows, cols, figsize=(15, rows * 4))\n",
    "    axes = axes.flatten()\n",
    "    for idx, feature in enumerate(categorical_features):\n",
    "        ax = axes[idx]\n",
    "        df[feature].value_counts().plot(kind='bar', ax=ax)\n",
    "        ax.set_title(feature)\n",
    "        ax.grid(axis='y', linestyle='--', alpha=0.7)\n",
    "        ax.tick_params(axis='x', rotation=45)\n",
    "    plt.tight_layout(pad=1.08, h_pad=3, w_pad=3)\n",
    "    plt.savefig('plots/categorical_features.png', dpi=300)\n",
    "    plt.show()\n",
    "\n",
    "\n",
    "plot_numeric_categorical_features(train, categorical_columns, numerical_columns)"
   ],
   "id": "ff700e413c786383",
   "outputs": [],
   "execution_count": null
  },
  {
   "metadata": {},
   "cell_type": "markdown",
   "source": "На основе графиков можно увидеть несколько признаков со значительным дисбалансом значений, посчитаем и сохраним дисбаланс для этих признаков",
   "id": "cdc2b951f4c996d5"
  },
  {
   "metadata": {},
   "cell_type": "code",
   "source": [
    "potentially_disbalanced_features = [\n",
    "    \"Curricular units 1st sem (credited)\",\n",
    "    \"Curricular units 1st sem (without evaluations)\",\n",
    "    \"Curricular units 2nd sem (credited)\",\n",
    "    \"Curricular units 2nd sem (without evaluations)\",\n",
    "    \"Marital status\",\n",
    "    \"Daytime/evening attendance\",\n",
    "    \"Previous qualification\",\n",
    "    \"Nacionality\",\n",
    "    \"International\"\n",
    "]\n",
    "disbalanced_features_and_most_frequent_percent = [\n",
    "    (feature, float(train[feature].value_counts().max() / len(train[feature]) * 100)) for feature in potentially_disbalanced_features\n",
    "]\n",
    "\n",
    "disbalanced_features_and_most_frequent_percent = sorted(disbalanced_features_and_most_frequent_percent, key=lambda x: x[1], reverse=True)\n",
    "print(tabulate(disbalanced_features_and_most_frequent_percent, headers=[\"Category\", \"Percentage\"], tablefmt=\"grid\"))"
   ],
   "id": "614e8e4efb3e6c23",
   "outputs": [],
   "execution_count": null
  },
  {
   "metadata": {},
   "cell_type": "markdown",
   "source": [
    "### Корреляция признаков\n",
    "Построим таблицу корреляции признаков"
   ],
   "id": "2c094d1ffe1985d4"
  },
  {
   "metadata": {},
   "cell_type": "code",
   "source": [
    "corr_matrix = train[numerical_columns].corr()\n",
    "plt.figure(figsize=(8, 6))\n",
    "sns.heatmap(corr_matrix, annot=True, cmap='coolwarm', fmt=\".2f\")\n",
    "plt.title('Correlation Matrix Heatmap')\n",
    "plt.show()"
   ],
   "id": "b9ca83db17eb3dcf",
   "outputs": [],
   "execution_count": null
  },
  {
   "metadata": {},
   "cell_type": "markdown",
   "source": "По графику явно наблюдается корреляция между значениями, связанными с curricular units",
   "id": "dcd020c506e6dd27"
  },
  {
   "metadata": {},
   "cell_type": "markdown",
   "source": "### Прочее по анализу данных",
   "id": "1218984eb5ac3728"
  },
  {
   "metadata": {},
   "cell_type": "markdown",
   "source": [
    "#### 1) Qualification features\n",
    "Порядок следования номеров в столбцах/признаках Previous qualification, Mother's qualification, Father's qualification не отражает, какой уровень образования выше или ниже, это следует исправить"
   ],
   "id": "93c445eea6a700c1"
  },
  {
   "metadata": {},
   "cell_type": "code",
   "source": [
    "previous_qualification_mapping = {\n",
    "    5: 0,   # Doctorate\n",
    "    43: 1,  # Master's (2nd cycle)\n",
    "    4: 1,   # Master's\n",
    "    40: 2,  # Degree (1st cycle)\n",
    "    2: 3,   # Bachelor's degree\n",
    "    39: 4,  # Technological specialization\n",
    "    42: 5,  # Professional higher technical course\n",
    "    6: 6,   # Frequency of higher education\n",
    "    9: 7,   # 12th year not completed\n",
    "    10: 8,  # 11th year not completed\n",
    "    12: 9,  # Other - 11th year\n",
    "    14: 10, # 10th year\n",
    "    15: 11, # 10th year not completed\n",
    "    19: 12, # Basic education 3rd cycle\n",
    "    38: 13, # Basic education 2nd cycle\n",
    "    1: 14   # Secondary education\n",
    "}\n",
    "mother_qualification_mapping = {\n",
    "    44: 0,  # Doctorate (3rd Cycle)\n",
    "    5: 0,   # Doctorate\n",
    "    43: 1,  # Master's (2nd Cycle)\n",
    "    4: 1,   # Master's\n",
    "    40: 2,  # Degree (1st Cycle)\n",
    "    3: 2,   # Degree\n",
    "    2: 3,   # Bachelor's\n",
    "    39: 4,  # Technological specialization\n",
    "    42: 5,  # Professional higher technical\n",
    "    41: 6,  # Specialized higher studies\n",
    "    6: 7,   # Frequency of higher education\n",
    "    9: 8,   # 12th Year - Not Completed\n",
    "    10: 9,  # 11th Year - Not Completed\n",
    "    12: 10, # Other - 11th Year\n",
    "    14: 11, # 10th Year\n",
    "    29: 12, # 9th Year - Not Completed\n",
    "    19: 13, # Basic Education 3rd Cycle\n",
    "    18: 14, # General commerce course\n",
    "    27: 15, # 2nd Cycle of General High School\n",
    "    26: 16, # 7th Year of Schooling\n",
    "    11: 16, # 7th Year (Old)\n",
    "    38: 17, # Basic Education 2nd Cycle\n",
    "    37: 18, # Basic Education 1st Cycle\n",
    "    36: 19, # Can Read Without 4th Year\n",
    "    35: 20, # Can't Read or Write\n",
    "    34: 21  # Unknown\n",
    "}\n",
    "father_qualification_mapping = {\n",
    "    44: 0,  # Doctorate (3rd Cycle)\n",
    "    5: 0,   # Doctorate\n",
    "    43: 1,  # Master's (2nd Cycle)\n",
    "    4: 1,   # Master's\n",
    "    40: 2,  # Degree (1st Cycle)\n",
    "    3: 2,   # Degree\n",
    "    2: 3,   # Bachelor's Degree\n",
    "    39: 4,  # Technological Specialization Course\n",
    "    42: 5,  # Professional Higher Technical Course\n",
    "    41: 6,  # Specialized Higher Studies Course\n",
    "    6: 7,   # Frequency of Higher Education\n",
    "    9: 8,   # 12th Year of Schooling - Not Completed\n",
    "    10: 9,  # 11th Year of Schooling - Not Completed\n",
    "    12: 10, # Other - 11th Year of Schooling\n",
    "    13: 11, # 2nd Year Complementary High School Course\n",
    "    20: 11, # Complementary High School Course\n",
    "    14: 12, # 10th Year of Schooling\n",
    "    25: 13, # Complementary High School Course - Not Concluded\n",
    "    29: 14, # 9th Year of Schooling - Not Completed\n",
    "    19: 15, # Basic Education 3rd Cycle (9th/10th/11th Year) or Equiv.\n",
    "    18: 16, # General Commerce Course\n",
    "    27: 17, # 2nd Cycle of General High School\n",
    "    26: 18, # 7th Year of Schooling\n",
    "    11: 18, # 7th Year (Old System)\n",
    "    30: 19, # 8th Year of Schooling\n",
    "    38: 20, # Basic Education 2nd Cycle (6th/7th/8th Year) or Equiv.\n",
    "    37: 21, # Basic Education 1st Cycle (4th/5th Year) or Equiv.\n",
    "    31: 22, # General Course of Administration and Commerce\n",
    "    33: 23, # Supplementary Accounting and Administration\n",
    "    36: 24, # Can Read Without Having 4th Year\n",
    "    35: 25, # Can't Read or Write\n",
    "    34: 26  # Unknown\n",
    "}\n",
    "\n",
    "train['Previous qualification'] = train['Previous qualification'].map(previous_qualification_mapping)\n",
    "train[\"Mother's qualification\"] = train[\"Mother's qualification\"].map(mother_qualification_mapping)\n",
    "train[\"Father's qualification\"] = train[\"Father's qualification\"].map(father_qualification_mapping)"
   ],
   "id": "2837e9f5f2cd8605",
   "outputs": [],
   "execution_count": null
  },
  {
   "metadata": {},
   "cell_type": "markdown",
   "source": [
    "#### 2) Missing encoded values\n",
    "Для столбцов Mother's occupation и Father's occupation отсутствие данных закодировано как 99 (\"blank\"), для Mother's qualification и Father's qualification представлено как значение \"Unknown\" под кодами 21 и 26 соответственно. Рассмотрим частоту встречаемости этих кодов для каждого признака."
   ],
   "id": "90629be717fe5630"
  },
  {
   "metadata": {},
   "cell_type": "code",
   "source": [
    "def calculate_value_frequency_percent(df: pd.DataFrame, feature_column: str, value) -> float:\n",
    "    \"\"\"\n",
    "    Function to calculate the frequency of a specific value in a feature.\n",
    "\n",
    "    @param df: Pandas DataFrame\n",
    "    @param feature_column: Feature name\n",
    "    @param value: Value to calculate the frequency\n",
    "\n",
    "    @raise ValueError: If the value is not found in the feature\n",
    "\n",
    "    @return: Frequency of the value in the feature by percentage\n",
    "    \"\"\"\n",
    "    frequency = df[feature_column].value_counts().get(value)\n",
    "    if frequency is None:\n",
    "        raise ValueError(f\"Value {value} not found in the feature {feature_column}\")\n",
    "    value_percentage = (frequency / len(df[feature_column])) * 100\n",
    "    return value_percentage\n",
    "\n",
    "features_with_missing_values = {\n",
    "    \"Mother's occupation\": 99,\n",
    "    \"Father's occupation\": 99,\n",
    "    \"Mother's qualification\": 21,\n",
    "    \"Father's qualification\": 26\n",
    "}\n",
    "\n",
    "features_and_missing_percent = [\n",
    "    (feature, missing_code, calculate_value_frequency_percent(train, feature, missing_code)) for feature, missing_code in features_with_missing_values.items()\n",
    "]\n",
    "print(tabulate(features_and_missing_percent, headers=[\"Feature with missing values\", \"Missing value code\", \"Percentage of missing values\"], tablefmt=\"grid\"))\n"
   ],
   "id": "40b1672fbf6bdae6",
   "outputs": [],
   "execution_count": null
  },
  {
   "metadata": {},
   "cell_type": "markdown",
   "source": "Процент кодов об отсутствии данных составляет менее 0.2% для occupation признаков и менее 3% для qualification признаков. Также эти отсутствующие данные именно закодированы, а не представлены в виде NaN, поэтому их можно оставить без изменений.",
   "id": "886206a3be617e26"
  },
  {
   "metadata": {},
   "cell_type": "markdown",
   "source": [
    "#### 3) Feature's functional dependence\n",
    "На основании описания данных кажется, что признак Curricular units * sem (enrolled) может быть вычислен путем сложения Curricular units * sem (evaluations) и Curricular units * sem (without evaluations). Проверим это."
   ],
   "id": "2109cfa06364bbf6"
  },
  {
   "metadata": {},
   "cell_type": "code",
   "source": [
    "enrolled_1st_sem_differences = train['Curricular units 1st sem (enrolled)'] - (train['Curricular units 1st sem (evaluations)'] + train['Curricular units 1st sem (without evaluations)'])\n",
    "enrolled_2nd_sem_differences = train['Curricular units 2nd sem (enrolled)'] - (train['Curricular units 2nd sem (evaluations)'] + train['Curricular units 2nd sem (without evaluations)'])\n",
    "\n",
    "enrolled_differences = {\n",
    "    \"Curricular units 1st sem (enrolled)\": int(np.sum(enrolled_1st_sem_differences != 0)),\n",
    "    \"Curricular units 2nd sem (enrolled)\": int(np.sum(enrolled_2nd_sem_differences != 0))\n",
    "}\n",
    "for feature, differences_amount in enrolled_differences.items():\n",
    "    if differences_amount == 0:\n",
    "        print(f\"Признак {feature} можно вычислить как сумму двух других признаков.\")\n",
    "    else:\n",
    "        print(f\"Признак {feature} не является линейной комбинацией других признаков.\")\n",
    "        print(f\"Количество несоответствий: {differences_amount}, процент несоответствий: ~{differences_amount / len(train) * 100:.2f}%\\n\\n\")"
   ],
   "id": "56b8516d5124b2fa",
   "outputs": [],
   "execution_count": null
  },
  {
   "metadata": {},
   "cell_type": "markdown",
   "source": "Гипотеза не подтвердилась",
   "id": "e236f3d227d9f7f0"
  },
  {
   "metadata": {},
   "cell_type": "markdown",
   "source": [
    "#### 4) Debtor and Tuition fees up to date\n",
    "Кажется что признаки Debtor и Tuition fees up to date могут быть взаимосвязаны, а именно предположим, что студент либо должник, либо вовремя платит за обучение. Проверим это."
   ],
   "id": "72bb48beeb62f195"
  },
  {
   "metadata": {},
   "cell_type": "code",
   "source": [
    "#train[['Debtor', 'Tuition fees up to date']].describe()\n",
    "\n",
    "same_debt_and_tuition_fee_value = train[(train['Debtor'] == train['Tuition fees up to date'])]\n",
    "if same_debt_and_tuition_fee_value.empty:\n",
    "    print(\"Cтудент либо должник, либо вовремя платит за обучение.\")\n",
    "else:\n",
    "    print(f\"Количество одинаковых значений в 'Debtor' и 'Tuition fees up to date': {len(same_debt_and_tuition_fee_value)}, эти признаки не всегда обратны друг другу\")\n"
   ],
   "id": "7dd1a7f4727c6fae",
   "outputs": [],
   "execution_count": null
  },
  {
   "metadata": {},
   "cell_type": "markdown",
   "source": "'Debtor' и 'Tuition fees up to date' не всегда обратны друг другу, поэтому наше предположение неверно.",
   "id": "82617c6a279e01a1"
  },
  {
   "cell_type": "markdown",
   "id": "548c441d-4ead-4783-abce-20d6ca507159",
   "metadata": {},
   "source": [
    "###  Кодировка Target c использованием LabelEncoder"
   ]
  },
  {
   "cell_type": "code",
   "id": "49a81716-d42a-4f63-ae2b-79228857973f",
   "metadata": {},
   "source": [
    "from sklearn.preprocessing import LabelEncoder\n",
    "\n",
    "# Используем LabelEncoder для кодирования уникальных значений\n",
    "le = LabelEncoder()\n",
    "train['Target'] = le.fit_transform(train['Target'])\n",
    "\n",
    "# Находим уникальные значения и сортируем их по порядку\n",
    "unique_values = sorted(zip(le.transform(le.classes_), le.classes_))\n",
    "\n",
    "# Проверяем результат\n",
    "print(\"Преобразованные значения 'Target':\", train['Target'].unique())\n"
   ],
   "outputs": [],
   "execution_count": null
  },
  {
   "cell_type": "markdown",
   "id": "01c4f98d-3071-45f7-946e-49ab9cb6ff16",
   "metadata": {},
   "source": [
    "###  Применяем нормализацию к новому определенному списку числовых категорий numerical_columns"
   ]
  },
  {
   "cell_type": "code",
   "id": "aa27bcff-6596-48b5-a7e6-3ba9da19a229",
   "metadata": {},
   "source": [
    "from sklearn.preprocessing import MinMaxScaler\n",
    "\n",
    "scaler = MinMaxScaler(feature_range=(0, 1))\n",
    "\n",
    "# Применяем нормализацию\n",
    "train[numerical_columns] = scaler.fit_transform(train[numerical_columns])\n",
    "\n",
    "# Проверяем результат\n",
    "print(train.head())\n"
   ],
   "outputs": [],
   "execution_count": null
  },
  {
   "cell_type": "markdown",
   "id": "4e4ecbdc-e433-4234-bf08-fcc15fed8886",
   "metadata": {},
   "source": [
    "###  Feature engeneering. Два новых признака пока достаточно, это средняя величина зачтенных экзаменов за два семестра и отношение количества успешно завершенных курсов к общему количеству записанных курсов за оба семестра."
   ]
  },
  {
   "cell_type": "code",
   "id": "cc0656b3-c35c-417d-8c3c-3439d53bf8e2",
   "metadata": {},
   "source": [
    "train[\"Curricular units approved_ratio\"] = (\n",
    "                                                   (train[\"Curricular units 1st sem (approved)\"]) + (\n",
    "                                               train[\"Curricular units 2nd sem (approved)\"])\n",
    "                                           ) / 2\n",
    "\n",
    "train['Academic Performance Ratio'] = np.where(\n",
    "    (train['Curricular units 1st sem (enrolled)'] + train['Curricular units 2nd sem (enrolled)']) == 0,\n",
    "    0,  # Если знаменатель равен 0, устанавливаем значение 0\n",
    "    (train['Curricular units 1st sem (approved)'] + train['Curricular units 2nd sem (approved)']) /\n",
    "    (train['Curricular units 1st sem (enrolled)'] + train['Curricular units 2nd sem (enrolled)'])\n",
    ")\n",
    "\n",
    "# Проверяем добавленные признаки\n",
    "print(train[[\"Curricular units approved_ratio\", \"Academic Performance Ratio\"]].head(20))"
   ],
   "outputs": [],
   "execution_count": null
  },
  {
   "cell_type": "markdown",
   "id": "40481c38-07f6-47c4-82fa-7cca41c7e763",
   "metadata": {},
   "source": [
    "###  Применив RandomForestClassifier определяем часть важных признаков: как показал анализ, 20 признаков охватывают 90% от общей суммы \"важности\". Топ-15 давало, к примеру, 83%"
   ]
  },
  {
   "cell_type": "code",
   "id": "8b7aeb37-69ff-4cce-9827-5a3293caa1a5",
   "metadata": {},
   "source": [
    "import pandas as pd\n",
    "from sklearn.ensemble import RandomForestClassifier\n",
    "import matplotlib.pyplot as plt\n",
    "\n",
    "#train = pd.read_csv('train.csv', index_col='id')\n",
    "\n",
    "# Target' — это целевая переменная\n",
    "X = train.drop('Target', axis=1)  # Все столбцы, кроме целевой переменной\n",
    "y = train['Target']  # Целевая переменная\n",
    "\n",
    "# Обучаем модель случайного леса\n",
    "model = RandomForestClassifier(n_estimators=100, random_state=42)\n",
    "model.fit(X, y)\n",
    "\n",
    "# Получаем важность признаков\n",
    "feature_importances = model.feature_importances_\n",
    "\n",
    "# Создаем DataFrame для визуализации\n",
    "importance_df = pd.DataFrame({'Feature': X.columns, 'Importance': feature_importances})\n",
    "\n",
    "# Сортируем признаки по важности\n",
    "importance_df = importance_df.sort_values(by='Importance', ascending=False)\n",
    "\n",
    "# Получаем топ-20 признаков\n",
    "top_20_features = importance_df.head(20)\n",
    "\n",
    "# Выводим топ-20 признаков\n",
    "print(\"Top 20 features based on importance:\")\n",
    "print(top_20_features)\n",
    "\n",
    "# Подсчитываем сумму важности топ-20 признаков\n",
    "total_importance_top_20 = top_20_features['Importance'].sum()\n",
    "print(f\"\\nСумма важности топ-20 признаков: {total_importance_top_20}\")\n",
    "\n",
    "# Визуализируем важность признаков\n",
    "top_20_features.plot(kind='bar', x='Feature', y='Importance', legend=False)\n",
    "plt.title('Top 20 Feature Importance')\n",
    "plt.xlabel('Feature')\n",
    "plt.ylabel('Importance')\n",
    "plt.show()"
   ],
   "outputs": [],
   "execution_count": null
  }
 ],
 "metadata": {
  "kernelspec": {
   "display_name": "Python 3 (ipykernel)",
   "language": "python",
   "name": "python3"
  },
  "language_info": {
   "codemirror_mode": {
    "name": "ipython",
    "version": 3
   },
   "file_extension": ".py",
   "mimetype": "text/x-python",
   "name": "python",
   "nbconvert_exporter": "python",
   "pygments_lexer": "ipython3",
   "version": "3.12.4"
  }
 },
 "nbformat": 4,
 "nbformat_minor": 5
}
