{
 "cells": [
  {
   "metadata": {},
   "cell_type": "markdown",
   "source": [
    "# Classification with an Academic Success Dataset\n",
    "#### [Source](https://www.kaggle.com/competitions/playground-series-s4e6)\n",
    "\n",
    "### Description\n",
    "The goal of this competition is to predict academic risk of students in higher education.\n",
    "Dataset description located [here](https://archive.ics.uci.edu/dataset/697/predict+students+dropout+and+academic+success)"
   ],
   "id": "7e47fc770de5ab0a"
  },
  {
   "metadata": {},
   "cell_type": "markdown",
   "source": "### Imports ",
   "id": "f342fec42f390aca"
  },
  {
   "cell_type": "code",
   "id": "initial_id",
   "metadata": {
    "collapsed": true
   },
   "source": [
    "import numpy as np\n",
    "import pandas as pd\n",
    "import sklearn"
   ],
   "outputs": [],
   "execution_count": null
  },
  {
   "metadata": {},
   "cell_type": "markdown",
   "source": "### Load Data",
   "id": "93970c5431a67cb3"
  },
  {
   "metadata": {},
   "cell_type": "code",
   "source": [
    "train = pd.read_csv('../dataset/train.csv', index_col='id')\n",
    "test = pd.read_csv('../dataset/test.csv', index_col='id')\n",
    "print(train.info())"
   ],
   "id": "fef15ebf74f51ea0",
   "outputs": [],
   "execution_count": null
  },
  {
   "metadata": {},
   "cell_type": "code",
   "source": "print(train.head())",
   "id": "b3dc6356ef0613d0",
   "outputs": [],
   "execution_count": null
  },
  {
   "metadata": {},
   "cell_type": "markdown",
   "source": [
    "### Current task:\n",
    "- Проведите предварительный анализ данных\n",
    "- Выявите пропуски в данных\n",
    "- Примите решение по обработке найденных пропусков\n",
    "- Выявите категориальные признаки\n",
    "- Преобразуйте категориальные данные\n",
    "- Нормируйте данные выбранным методом"
   ],
   "id": "149840359bca73e1"
  },
  {
   "metadata": {},
   "cell_type": "markdown",
   "source": "### Analysis of target",
   "id": "8e32746b7c376e7d"
  },
  {
   "metadata": {},
   "cell_type": "code",
   "source": "print(train['Target'].value_counts())",
   "id": "4cc6f3c865555325",
   "outputs": [],
   "execution_count": null
  },
  {
   "metadata": {},
   "cell_type": "markdown",
   "source": "There are 3 classes in the target variable. The classes are imbalanced. Target variable is, obviously, categorical, nominal order.",
   "id": "bf4041644181033d"
  },
  {
   "metadata": {},
   "cell_type": "markdown",
   "source": "### Analysis of features",
   "id": "61b6128e7f86ceaa"
  },
  {
   "metadata": {},
   "cell_type": "code",
   "source": "print(train.columns)",
   "id": "1af40c15d70d98a9",
   "outputs": [],
   "execution_count": null
  },
  {
   "metadata": {},
   "cell_type": "code",
   "outputs": [],
   "execution_count": null,
   "source": [
    "# for feature in train.columns.tolist():\n",
    "#     print(train[feature].value_counts())"
   ],
   "id": "f45268505645d78b"
  },
  {
   "metadata": {},
   "cell_type": "markdown",
   "source": [
    "Based of data description, we can assume types of features this way:\n",
    "* Nominal scale:\n",
    "    * Marital Status — Student's marital status\n",
    "    * Application mode — Indicates the specific pathway or criterion under which the student was admitted\n",
    "    * Course — The course the student is enrolled\n",
    "    * Nationality — Encodes the nationality of the student as integers representing specific countries\n",
    "    * Mother's occupation — Encodes the occupation of the student’s mother, classified into detailed job categories and broader occupational sectors.\n",
    "    * Father's occupation — Encodes the occupation of the student’s father, classified into detailed job categories and broader occupational sectors.\n",
    "* Binary nominal scale:\n",
    "    * Daytime/Evening Attendance — Specifies whether a student attends classes during the day (1) or in the evening (0).\n",
    "    * Displaced — Indicates whether the student resides away from home to attend their course (1 = Yes, 0 = No)\n",
    "    * Educational special needs — Indicates whether the student has declared special educational needs (1 = Yes, 0 = No)\n",
    "    * Debtor — Identifies whether the student owes debts (1 = Yes, 0 = No)\n",
    "    * Tuition fees up to date — Indicates whether the student is up-to-date with tuition fee payments (1 = Yes, 0 = No)\n",
    "    * Gender — Student's gender (1 = Male, 0 = Female)\n",
    "    * Scholarship holder — Indicates whether the student receives a scholarship (1 = Yes, 0 = No)\n",
    "    * International — Indicates whether the student is an international student (1 = Yes, 0 = No)\n",
    "* Ordinal scale:\n",
    "    * Application order — Denotes the student's ranking of the applied course in their list of preferences during the application process\n",
    "    * Previous qualification — Represents the highest level of prior education achieved by the student\n",
    "    * Mother's qualification — Represents the highest level of education achieved by the student's mother\n",
    "    * Father's qualification — Represents the highest level of education achieved by the student's father\n",
    "* Interval scale: \n",
    "    None\n",
    "* Ratio scale:\n",
    "    * Previous qualification (grade) — Represents the grade of the student’s previous qualification on a scale from min 0 to max 200. Not ordinal or interval cause have true zero and float value, not int.\n",
    "    * Admission grade — The grade used for admission, ranging from min 0 to max 200. Not ordinal or interval cause have true zero and float value, not int.\n",
    "    * Age at enrollment — The student's age at the time of enrollment\n",
    "    * Curricular units 1st sem (credited) & Curricular units 2nd sem (credited) — The number of curricular units credited in the first and second semesters, respectively. Indicates prior recognition of a unit without requiring enrollment or evaluation\n",
    "    * Curricular units 1st sem (enrolled) & Curricular units 2nd sem (enrolled) — The number of curricular units in which the student enrolled in the 1 and 2 semesters, respectively\n",
    "    * Curricular units 1st sem (evaluations) & Curricular units 2nd sem (evaluations) — The number of curricular units evaluated in the 1 and 2 semesters, respectively\n",
    "    * Curricular units 1st sem (approved) & Curricular units 2nd sem (approved) — The number of curricular units successfully passed by the student in the 1 and 2 semesters, respectively\n",
    "    * Curricular units 1st sem (grade) & Curricular units 2nd sem (grade) — The average grade of the student in the 1 and 2 semesters, respectively. Scored between min 0 and max 20. Not ordinal or interval cause have true zero and float value, not int.\n",
    "    * Curricular units 1st sem (without evaluations) & Curricular units 2nd sem (without evaluations) — The number of curricular units in which the student enrolled but were not evaluated in the 1 and 2 semesters, respectively\n",
    "    * Unemployment rate — Probably(!) the percentage of the population unemployed during the semester.\n",
    "    * Inflation rate — Probably(!) the percentage of inflation during the semester.\n",
    "    * GDP — Probably(!) the Gross Domestic Product during the semester.\n",
    "\n",
    "Extra notes:\n",
    "* Previous qualification, Mother's qualification, Father's qualification column's numbers order do not represent what level of education is higher or lower, should be refactored.\n",
    "* For mother's occupation and father's occupation missing data encoded as 99 (\"blank\")\n",
    "* Debtor and Tuition fees up to date could have correlation, should be checked.\n",
    "* Should be checked if enrolled curricular units could to be calculated by evaluations + without evaluations. The same for without evaluations = enrolled - evaluations etc."
   ],
   "id": "3b1cacd4777a7c60"
  }
 ],
 "metadata": {
  "kernelspec": {
   "display_name": "Python 3",
   "language": "python",
   "name": "python3"
  },
  "language_info": {
   "codemirror_mode": {
    "name": "ipython",
    "version": 2
   },
   "file_extension": ".py",
   "mimetype": "text/x-python",
   "name": "python",
   "nbconvert_exporter": "python",
   "pygments_lexer": "ipython2",
   "version": "2.7.6"
  }
 },
 "nbformat": 4,
 "nbformat_minor": 5
}
